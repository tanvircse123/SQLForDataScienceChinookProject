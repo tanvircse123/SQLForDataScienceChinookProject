{
 "cells": [
  {
   "cell_type": "code",
   "execution_count": 2,
   "id": "53741f4a",
   "metadata": {},
   "outputs": [
    {
     "name": "stdout",
     "output_type": "stream",
     "text": [
      "The sql extension is already loaded. To reload it, use:\n",
      "  %reload_ext sql\n"
     ]
    }
   ],
   "source": [
    "%load_ext sql"
   ]
  },
  {
   "cell_type": "code",
   "execution_count": 3,
   "id": "34497904",
   "metadata": {},
   "outputs": [],
   "source": [
    "%sql sqlite:///Chinook_Sqlite.sqlite"
   ]
  },
  {
   "cell_type": "code",
   "execution_count": 4,
   "id": "c2f65429",
   "metadata": {},
   "outputs": [
    {
     "name": "stdout",
     "output_type": "stream",
     "text": [
      " * sqlite:///Chinook_Sqlite.sqlite\n",
      "Done.\n"
     ]
    },
    {
     "data": {
      "text/html": [
       "<table>\n",
       "    <thead>\n",
       "        <tr>\n",
       "            <th>AlbumId</th>\n",
       "            <th>Title</th>\n",
       "            <th>ArtistId</th>\n",
       "        </tr>\n",
       "    </thead>\n",
       "    <tbody>\n",
       "        <tr>\n",
       "            <td>1</td>\n",
       "            <td>For Those About To Rock We Salute You</td>\n",
       "            <td>1</td>\n",
       "        </tr>\n",
       "        <tr>\n",
       "            <td>2</td>\n",
       "            <td>Balls to the Wall</td>\n",
       "            <td>2</td>\n",
       "        </tr>\n",
       "        <tr>\n",
       "            <td>3</td>\n",
       "            <td>Restless and Wild</td>\n",
       "            <td>2</td>\n",
       "        </tr>\n",
       "        <tr>\n",
       "            <td>4</td>\n",
       "            <td>Let There Be Rock</td>\n",
       "            <td>1</td>\n",
       "        </tr>\n",
       "        <tr>\n",
       "            <td>5</td>\n",
       "            <td>Big Ones</td>\n",
       "            <td>3</td>\n",
       "        </tr>\n",
       "        <tr>\n",
       "            <td>6</td>\n",
       "            <td>Jagged Little Pill</td>\n",
       "            <td>4</td>\n",
       "        </tr>\n",
       "        <tr>\n",
       "            <td>7</td>\n",
       "            <td>Facelift</td>\n",
       "            <td>5</td>\n",
       "        </tr>\n",
       "        <tr>\n",
       "            <td>8</td>\n",
       "            <td>Warner 25 Anos</td>\n",
       "            <td>6</td>\n",
       "        </tr>\n",
       "        <tr>\n",
       "            <td>9</td>\n",
       "            <td>Plays Metallica By Four Cellos</td>\n",
       "            <td>7</td>\n",
       "        </tr>\n",
       "        <tr>\n",
       "            <td>10</td>\n",
       "            <td>Audioslave</td>\n",
       "            <td>8</td>\n",
       "        </tr>\n",
       "    </tbody>\n",
       "</table>"
      ],
      "text/plain": [
       "[(1, 'For Those About To Rock We Salute You', 1),\n",
       " (2, 'Balls to the Wall', 2),\n",
       " (3, 'Restless and Wild', 2),\n",
       " (4, 'Let There Be Rock', 1),\n",
       " (5, 'Big Ones', 3),\n",
       " (6, 'Jagged Little Pill', 4),\n",
       " (7, 'Facelift', 5),\n",
       " (8, 'Warner 25 Anos', 6),\n",
       " (9, 'Plays Metallica By Four Cellos', 7),\n",
       " (10, 'Audioslave', 8)]"
      ]
     },
     "execution_count": 4,
     "metadata": {},
     "output_type": "execute_result"
    }
   ],
   "source": [
    "%%sql\n",
    "SELECT * FROM Album LIMIT 10;"
   ]
  },
  {
   "cell_type": "code",
   "execution_count": 5,
   "id": "5f2e2b05",
   "metadata": {},
   "outputs": [
    {
     "name": "stdout",
     "output_type": "stream",
     "text": [
      " * sqlite:///Chinook_Sqlite.sqlite\n",
      "Done.\n"
     ]
    },
    {
     "data": {
      "text/html": [
       "<table>\n",
       "    <thead>\n",
       "        <tr>\n",
       "            <th>TrackId</th>\n",
       "            <th>Name</th>\n",
       "            <th>AlbumId</th>\n",
       "        </tr>\n",
       "    </thead>\n",
       "    <tbody>\n",
       "        <tr>\n",
       "            <td>1</td>\n",
       "            <td>For Those About To Rock (We Salute You)</td>\n",
       "            <td>1</td>\n",
       "        </tr>\n",
       "        <tr>\n",
       "            <td>2</td>\n",
       "            <td>Balls to the Wall</td>\n",
       "            <td>2</td>\n",
       "        </tr>\n",
       "        <tr>\n",
       "            <td>3</td>\n",
       "            <td>Fast As a Shark</td>\n",
       "            <td>3</td>\n",
       "        </tr>\n",
       "        <tr>\n",
       "            <td>4</td>\n",
       "            <td>Restless and Wild</td>\n",
       "            <td>3</td>\n",
       "        </tr>\n",
       "        <tr>\n",
       "            <td>5</td>\n",
       "            <td>Princess of the Dawn</td>\n",
       "            <td>3</td>\n",
       "        </tr>\n",
       "        <tr>\n",
       "            <td>6</td>\n",
       "            <td>Put The Finger On You</td>\n",
       "            <td>1</td>\n",
       "        </tr>\n",
       "        <tr>\n",
       "            <td>7</td>\n",
       "            <td>Let&#x27;s Get It Up</td>\n",
       "            <td>1</td>\n",
       "        </tr>\n",
       "        <tr>\n",
       "            <td>8</td>\n",
       "            <td>Inject The Venom</td>\n",
       "            <td>1</td>\n",
       "        </tr>\n",
       "        <tr>\n",
       "            <td>9</td>\n",
       "            <td>Snowballed</td>\n",
       "            <td>1</td>\n",
       "        </tr>\n",
       "        <tr>\n",
       "            <td>10</td>\n",
       "            <td>Evil Walks</td>\n",
       "            <td>1</td>\n",
       "        </tr>\n",
       "    </tbody>\n",
       "</table>"
      ],
      "text/plain": [
       "[(1, 'For Those About To Rock (We Salute You)', 1),\n",
       " (2, 'Balls to the Wall', 2),\n",
       " (3, 'Fast As a Shark', 3),\n",
       " (4, 'Restless and Wild', 3),\n",
       " (5, 'Princess of the Dawn', 3),\n",
       " (6, 'Put The Finger On You', 1),\n",
       " (7, \"Let's Get It Up\", 1),\n",
       " (8, 'Inject The Venom', 1),\n",
       " (9, 'Snowballed', 1),\n",
       " (10, 'Evil Walks', 1)]"
      ]
     },
     "execution_count": 5,
     "metadata": {},
     "output_type": "execute_result"
    }
   ],
   "source": [
    "%%sql\n",
    "SELECT TrackID,Name,AlbumID\n",
    "FROM Track LIMIT 10"
   ]
  },
  {
   "cell_type": "code",
   "execution_count": 6,
   "id": "30441ab5",
   "metadata": {},
   "outputs": [
    {
     "name": "stdout",
     "output_type": "stream",
     "text": [
      " * sqlite:///Chinook_Sqlite.sqlite\n",
      "Done.\n"
     ]
    },
    {
     "data": {
      "text/html": [
       "<table>\n",
       "    <thead>\n",
       "        <tr>\n",
       "            <th>album_title</th>\n",
       "            <th>track_name</th>\n",
       "        </tr>\n",
       "    </thead>\n",
       "    <tbody>\n",
       "        <tr>\n",
       "            <td>For Those About To Rock We Salute You</td>\n",
       "            <td>For Those About To Rock (We Salute You)</td>\n",
       "        </tr>\n",
       "        <tr>\n",
       "            <td>Balls to the Wall</td>\n",
       "            <td>Balls to the Wall</td>\n",
       "        </tr>\n",
       "        <tr>\n",
       "            <td>Restless and Wild</td>\n",
       "            <td>Fast As a Shark</td>\n",
       "        </tr>\n",
       "        <tr>\n",
       "            <td>Restless and Wild</td>\n",
       "            <td>Restless and Wild</td>\n",
       "        </tr>\n",
       "        <tr>\n",
       "            <td>Restless and Wild</td>\n",
       "            <td>Princess of the Dawn</td>\n",
       "        </tr>\n",
       "        <tr>\n",
       "            <td>For Those About To Rock We Salute You</td>\n",
       "            <td>Put The Finger On You</td>\n",
       "        </tr>\n",
       "        <tr>\n",
       "            <td>For Those About To Rock We Salute You</td>\n",
       "            <td>Let&#x27;s Get It Up</td>\n",
       "        </tr>\n",
       "        <tr>\n",
       "            <td>For Those About To Rock We Salute You</td>\n",
       "            <td>Inject The Venom</td>\n",
       "        </tr>\n",
       "        <tr>\n",
       "            <td>For Those About To Rock We Salute You</td>\n",
       "            <td>Snowballed</td>\n",
       "        </tr>\n",
       "        <tr>\n",
       "            <td>For Those About To Rock We Salute You</td>\n",
       "            <td>Evil Walks</td>\n",
       "        </tr>\n",
       "    </tbody>\n",
       "</table>"
      ],
      "text/plain": [
       "[('For Those About To Rock We Salute You', 'For Those About To Rock (We Salute You)'),\n",
       " ('Balls to the Wall', 'Balls to the Wall'),\n",
       " ('Restless and Wild', 'Fast As a Shark'),\n",
       " ('Restless and Wild', 'Restless and Wild'),\n",
       " ('Restless and Wild', 'Princess of the Dawn'),\n",
       " ('For Those About To Rock We Salute You', 'Put The Finger On You'),\n",
       " ('For Those About To Rock We Salute You', \"Let's Get It Up\"),\n",
       " ('For Those About To Rock We Salute You', 'Inject The Venom'),\n",
       " ('For Those About To Rock We Salute You', 'Snowballed'),\n",
       " ('For Those About To Rock We Salute You', 'Evil Walks')]"
      ]
     },
     "execution_count": 6,
     "metadata": {},
     "output_type": "execute_result"
    }
   ],
   "source": [
    "%%sql\n",
    "SELECT album.Title as album_title,\n",
    "track.name as track_name \n",
    "FROM Track track\n",
    "JOIN Album album ON track.AlbumId = album.AlbumId\n",
    "LIMIT 10;"
   ]
  },
  {
   "cell_type": "code",
   "execution_count": 7,
   "id": "b0ddef7c",
   "metadata": {},
   "outputs": [
    {
     "name": "stdout",
     "output_type": "stream",
     "text": [
      " * sqlite:///Chinook_Sqlite.sqlite\n",
      "Done.\n"
     ]
    },
    {
     "data": {
      "text/html": [
       "<table>\n",
       "    <thead>\n",
       "        <tr>\n",
       "            <th>ArtistId</th>\n",
       "            <th>Name</th>\n",
       "        </tr>\n",
       "    </thead>\n",
       "    <tbody>\n",
       "        <tr>\n",
       "            <td>1</td>\n",
       "            <td>AC/DC</td>\n",
       "        </tr>\n",
       "        <tr>\n",
       "            <td>2</td>\n",
       "            <td>Accept</td>\n",
       "        </tr>\n",
       "        <tr>\n",
       "            <td>3</td>\n",
       "            <td>Aerosmith</td>\n",
       "        </tr>\n",
       "        <tr>\n",
       "            <td>4</td>\n",
       "            <td>Alanis Morissette</td>\n",
       "        </tr>\n",
       "        <tr>\n",
       "            <td>5</td>\n",
       "            <td>Alice In Chains</td>\n",
       "        </tr>\n",
       "        <tr>\n",
       "            <td>6</td>\n",
       "            <td>Antônio Carlos Jobim</td>\n",
       "        </tr>\n",
       "        <tr>\n",
       "            <td>7</td>\n",
       "            <td>Apocalyptica</td>\n",
       "        </tr>\n",
       "        <tr>\n",
       "            <td>8</td>\n",
       "            <td>Audioslave</td>\n",
       "        </tr>\n",
       "        <tr>\n",
       "            <td>9</td>\n",
       "            <td>BackBeat</td>\n",
       "        </tr>\n",
       "        <tr>\n",
       "            <td>10</td>\n",
       "            <td>Billy Cobham</td>\n",
       "        </tr>\n",
       "    </tbody>\n",
       "</table>"
      ],
      "text/plain": [
       "[(1, 'AC/DC'),\n",
       " (2, 'Accept'),\n",
       " (3, 'Aerosmith'),\n",
       " (4, 'Alanis Morissette'),\n",
       " (5, 'Alice In Chains'),\n",
       " (6, 'Antônio Carlos Jobim'),\n",
       " (7, 'Apocalyptica'),\n",
       " (8, 'Audioslave'),\n",
       " (9, 'BackBeat'),\n",
       " (10, 'Billy Cobham')]"
      ]
     },
     "execution_count": 7,
     "metadata": {},
     "output_type": "execute_result"
    }
   ],
   "source": [
    "%%sql\n",
    "SELECT * FROM Artist LIMIT 10;"
   ]
  },
  {
   "cell_type": "code",
   "execution_count": 8,
   "id": "a550b4b3",
   "metadata": {},
   "outputs": [
    {
     "name": "stdout",
     "output_type": "stream",
     "text": [
      " * sqlite:///Chinook_Sqlite.sqlite\n",
      "Done.\n"
     ]
    },
    {
     "data": {
      "text/html": [
       "<table>\n",
       "    <thead>\n",
       "        <tr>\n",
       "            <th>InvoiceId</th>\n",
       "            <th>CustomerId</th>\n",
       "            <th>InvoiceDate</th>\n",
       "            <th>BillingAddress</th>\n",
       "            <th>BillingCity</th>\n",
       "            <th>BillingState</th>\n",
       "            <th>BillingCountry</th>\n",
       "            <th>BillingPostalCode</th>\n",
       "            <th>Total</th>\n",
       "        </tr>\n",
       "    </thead>\n",
       "    <tbody>\n",
       "        <tr>\n",
       "            <td>1</td>\n",
       "            <td>2</td>\n",
       "            <td>2009-01-01 00:00:00</td>\n",
       "            <td>Theodor-Heuss-Straße 34</td>\n",
       "            <td>Stuttgart</td>\n",
       "            <td>None</td>\n",
       "            <td>Germany</td>\n",
       "            <td>70174</td>\n",
       "            <td>1.98</td>\n",
       "        </tr>\n",
       "        <tr>\n",
       "            <td>2</td>\n",
       "            <td>4</td>\n",
       "            <td>2009-01-02 00:00:00</td>\n",
       "            <td>Ullevålsveien 14</td>\n",
       "            <td>Oslo</td>\n",
       "            <td>None</td>\n",
       "            <td>Norway</td>\n",
       "            <td>0171</td>\n",
       "            <td>3.96</td>\n",
       "        </tr>\n",
       "        <tr>\n",
       "            <td>3</td>\n",
       "            <td>8</td>\n",
       "            <td>2009-01-03 00:00:00</td>\n",
       "            <td>Grétrystraat 63</td>\n",
       "            <td>Brussels</td>\n",
       "            <td>None</td>\n",
       "            <td>Belgium</td>\n",
       "            <td>1000</td>\n",
       "            <td>5.94</td>\n",
       "        </tr>\n",
       "        <tr>\n",
       "            <td>4</td>\n",
       "            <td>14</td>\n",
       "            <td>2009-01-06 00:00:00</td>\n",
       "            <td>8210 111 ST NW</td>\n",
       "            <td>Edmonton</td>\n",
       "            <td>AB</td>\n",
       "            <td>Canada</td>\n",
       "            <td>T6G 2C7</td>\n",
       "            <td>8.91</td>\n",
       "        </tr>\n",
       "        <tr>\n",
       "            <td>5</td>\n",
       "            <td>23</td>\n",
       "            <td>2009-01-11 00:00:00</td>\n",
       "            <td>69 Salem Street</td>\n",
       "            <td>Boston</td>\n",
       "            <td>MA</td>\n",
       "            <td>USA</td>\n",
       "            <td>2113</td>\n",
       "            <td>13.86</td>\n",
       "        </tr>\n",
       "        <tr>\n",
       "            <td>6</td>\n",
       "            <td>37</td>\n",
       "            <td>2009-01-19 00:00:00</td>\n",
       "            <td>Berger Straße 10</td>\n",
       "            <td>Frankfurt</td>\n",
       "            <td>None</td>\n",
       "            <td>Germany</td>\n",
       "            <td>60316</td>\n",
       "            <td>0.99</td>\n",
       "        </tr>\n",
       "        <tr>\n",
       "            <td>7</td>\n",
       "            <td>38</td>\n",
       "            <td>2009-02-01 00:00:00</td>\n",
       "            <td>Barbarossastraße 19</td>\n",
       "            <td>Berlin</td>\n",
       "            <td>None</td>\n",
       "            <td>Germany</td>\n",
       "            <td>10779</td>\n",
       "            <td>1.98</td>\n",
       "        </tr>\n",
       "        <tr>\n",
       "            <td>8</td>\n",
       "            <td>40</td>\n",
       "            <td>2009-02-01 00:00:00</td>\n",
       "            <td>8, Rue Hanovre</td>\n",
       "            <td>Paris</td>\n",
       "            <td>None</td>\n",
       "            <td>France</td>\n",
       "            <td>75002</td>\n",
       "            <td>1.98</td>\n",
       "        </tr>\n",
       "        <tr>\n",
       "            <td>9</td>\n",
       "            <td>42</td>\n",
       "            <td>2009-02-02 00:00:00</td>\n",
       "            <td>9, Place Louis Barthou</td>\n",
       "            <td>Bordeaux</td>\n",
       "            <td>None</td>\n",
       "            <td>France</td>\n",
       "            <td>33000</td>\n",
       "            <td>3.96</td>\n",
       "        </tr>\n",
       "        <tr>\n",
       "            <td>10</td>\n",
       "            <td>46</td>\n",
       "            <td>2009-02-03 00:00:00</td>\n",
       "            <td>3 Chatham Street</td>\n",
       "            <td>Dublin</td>\n",
       "            <td>Dublin</td>\n",
       "            <td>Ireland</td>\n",
       "            <td>None</td>\n",
       "            <td>5.94</td>\n",
       "        </tr>\n",
       "    </tbody>\n",
       "</table>"
      ],
      "text/plain": [
       "[(1, 2, '2009-01-01 00:00:00', 'Theodor-Heuss-Straße 34', 'Stuttgart', None, 'Germany', '70174', 1.98),\n",
       " (2, 4, '2009-01-02 00:00:00', 'Ullevålsveien 14', 'Oslo', None, 'Norway', '0171', 3.96),\n",
       " (3, 8, '2009-01-03 00:00:00', 'Grétrystraat 63', 'Brussels', None, 'Belgium', '1000', 5.94),\n",
       " (4, 14, '2009-01-06 00:00:00', '8210 111 ST NW', 'Edmonton', 'AB', 'Canada', 'T6G 2C7', 8.91),\n",
       " (5, 23, '2009-01-11 00:00:00', '69 Salem Street', 'Boston', 'MA', 'USA', '2113', 13.86),\n",
       " (6, 37, '2009-01-19 00:00:00', 'Berger Straße 10', 'Frankfurt', None, 'Germany', '60316', 0.99),\n",
       " (7, 38, '2009-02-01 00:00:00', 'Barbarossastraße 19', 'Berlin', None, 'Germany', '10779', 1.98),\n",
       " (8, 40, '2009-02-01 00:00:00', '8, Rue Hanovre', 'Paris', None, 'France', '75002', 1.98),\n",
       " (9, 42, '2009-02-02 00:00:00', '9, Place Louis Barthou', 'Bordeaux', None, 'France', '33000', 3.96),\n",
       " (10, 46, '2009-02-03 00:00:00', '3 Chatham Street', 'Dublin', 'Dublin', 'Ireland', None, 5.94)]"
      ]
     },
     "execution_count": 8,
     "metadata": {},
     "output_type": "execute_result"
    }
   ],
   "source": [
    "%%sql\n",
    "Select *\n",
    "From Invoice LIMIT 10;"
   ]
  },
  {
   "cell_type": "code",
   "execution_count": 9,
   "id": "c756de46",
   "metadata": {},
   "outputs": [
    {
     "name": "stdout",
     "output_type": "stream",
     "text": [
      " * sqlite:///Chinook_Sqlite.sqlite\n",
      "Done.\n"
     ]
    },
    {
     "data": {
      "text/html": [
       "<table>\n",
       "    <thead>\n",
       "        <tr>\n",
       "            <th>PlaylistId</th>\n",
       "            <th>Name</th>\n",
       "        </tr>\n",
       "    </thead>\n",
       "    <tbody>\n",
       "        <tr>\n",
       "            <td>1</td>\n",
       "            <td>Music</td>\n",
       "        </tr>\n",
       "        <tr>\n",
       "            <td>2</td>\n",
       "            <td>Movies</td>\n",
       "        </tr>\n",
       "        <tr>\n",
       "            <td>3</td>\n",
       "            <td>TV Shows</td>\n",
       "        </tr>\n",
       "        <tr>\n",
       "            <td>4</td>\n",
       "            <td>Audiobooks</td>\n",
       "        </tr>\n",
       "        <tr>\n",
       "            <td>5</td>\n",
       "            <td>90’s Music</td>\n",
       "        </tr>\n",
       "        <tr>\n",
       "            <td>6</td>\n",
       "            <td>Audiobooks</td>\n",
       "        </tr>\n",
       "        <tr>\n",
       "            <td>7</td>\n",
       "            <td>Movies</td>\n",
       "        </tr>\n",
       "        <tr>\n",
       "            <td>8</td>\n",
       "            <td>Music</td>\n",
       "        </tr>\n",
       "        <tr>\n",
       "            <td>9</td>\n",
       "            <td>Music Videos</td>\n",
       "        </tr>\n",
       "        <tr>\n",
       "            <td>10</td>\n",
       "            <td>TV Shows</td>\n",
       "        </tr>\n",
       "    </tbody>\n",
       "</table>"
      ],
      "text/plain": [
       "[(1, 'Music'),\n",
       " (2, 'Movies'),\n",
       " (3, 'TV Shows'),\n",
       " (4, 'Audiobooks'),\n",
       " (5, '90’s Music'),\n",
       " (6, 'Audiobooks'),\n",
       " (7, 'Movies'),\n",
       " (8, 'Music'),\n",
       " (9, 'Music Videos'),\n",
       " (10, 'TV Shows')]"
      ]
     },
     "execution_count": 9,
     "metadata": {},
     "output_type": "execute_result"
    }
   ],
   "source": [
    "%%sql\n",
    "Select Playlistid,\n",
    "Name\n",
    "From Playlist LIMIT 10;"
   ]
  },
  {
   "cell_type": "code",
   "execution_count": 10,
   "id": "efe8576d",
   "metadata": {},
   "outputs": [
    {
     "name": "stdout",
     "output_type": "stream",
     "text": [
      " * sqlite:///Chinook_Sqlite.sqlite\n",
      "Done.\n"
     ]
    },
    {
     "data": {
      "text/html": [
       "<table>\n",
       "    <thead>\n",
       "        <tr>\n",
       "            <th>CustomerId</th>\n",
       "            <th>InvoiceDate</th>\n",
       "            <th>BillingCity</th>\n",
       "        </tr>\n",
       "    </thead>\n",
       "    <tbody>\n",
       "        <tr>\n",
       "            <td>2</td>\n",
       "            <td>2009-01-01 00:00:00</td>\n",
       "            <td>Stuttgart</td>\n",
       "        </tr>\n",
       "        <tr>\n",
       "            <td>4</td>\n",
       "            <td>2009-01-02 00:00:00</td>\n",
       "            <td>Oslo</td>\n",
       "        </tr>\n",
       "        <tr>\n",
       "            <td>8</td>\n",
       "            <td>2009-01-03 00:00:00</td>\n",
       "            <td>Brussels</td>\n",
       "        </tr>\n",
       "        <tr>\n",
       "            <td>14</td>\n",
       "            <td>2009-01-06 00:00:00</td>\n",
       "            <td>Edmonton</td>\n",
       "        </tr>\n",
       "        <tr>\n",
       "            <td>23</td>\n",
       "            <td>2009-01-11 00:00:00</td>\n",
       "            <td>Boston</td>\n",
       "        </tr>\n",
       "        <tr>\n",
       "            <td>37</td>\n",
       "            <td>2009-01-19 00:00:00</td>\n",
       "            <td>Frankfurt</td>\n",
       "        </tr>\n",
       "        <tr>\n",
       "            <td>38</td>\n",
       "            <td>2009-02-01 00:00:00</td>\n",
       "            <td>Berlin</td>\n",
       "        </tr>\n",
       "        <tr>\n",
       "            <td>40</td>\n",
       "            <td>2009-02-01 00:00:00</td>\n",
       "            <td>Paris</td>\n",
       "        </tr>\n",
       "        <tr>\n",
       "            <td>42</td>\n",
       "            <td>2009-02-02 00:00:00</td>\n",
       "            <td>Bordeaux</td>\n",
       "        </tr>\n",
       "        <tr>\n",
       "            <td>46</td>\n",
       "            <td>2009-02-03 00:00:00</td>\n",
       "            <td>Dublin</td>\n",
       "        </tr>\n",
       "    </tbody>\n",
       "</table>"
      ],
      "text/plain": [
       "[(2, '2009-01-01 00:00:00', 'Stuttgart'),\n",
       " (4, '2009-01-02 00:00:00', 'Oslo'),\n",
       " (8, '2009-01-03 00:00:00', 'Brussels'),\n",
       " (14, '2009-01-06 00:00:00', 'Edmonton'),\n",
       " (23, '2009-01-11 00:00:00', 'Boston'),\n",
       " (37, '2009-01-19 00:00:00', 'Frankfurt'),\n",
       " (38, '2009-02-01 00:00:00', 'Berlin'),\n",
       " (40, '2009-02-01 00:00:00', 'Paris'),\n",
       " (42, '2009-02-02 00:00:00', 'Bordeaux'),\n",
       " (46, '2009-02-03 00:00:00', 'Dublin')]"
      ]
     },
     "execution_count": 10,
     "metadata": {},
     "output_type": "execute_result"
    }
   ],
   "source": [
    "%%sql\n",
    "Select CustomerId,\n",
    "InvoiceDate, \n",
    "BillingCity \n",
    "From Invoice LIMIT 10;"
   ]
  },
  {
   "cell_type": "code",
   "execution_count": 11,
   "id": "939fe9c6",
   "metadata": {},
   "outputs": [
    {
     "name": "stdout",
     "output_type": "stream",
     "text": [
      " * sqlite:///Chinook_Sqlite.sqlite\n",
      "Done.\n"
     ]
    },
    {
     "data": {
      "text/html": [
       "<table>\n",
       "    <thead>\n",
       "        <tr>\n",
       "            <th>TrackId</th>\n",
       "            <th>GenreId</th>\n",
       "            <th>Composer</th>\n",
       "            <th>UnitPrice</th>\n",
       "        </tr>\n",
       "    </thead>\n",
       "    <tbody>\n",
       "        <tr>\n",
       "            <td>1</td>\n",
       "            <td>1</td>\n",
       "            <td>Angus Young, Malcolm Young, Brian Johnson</td>\n",
       "            <td>0.99</td>\n",
       "        </tr>\n",
       "        <tr>\n",
       "            <td>2</td>\n",
       "            <td>1</td>\n",
       "            <td>None</td>\n",
       "            <td>0.99</td>\n",
       "        </tr>\n",
       "        <tr>\n",
       "            <td>3</td>\n",
       "            <td>1</td>\n",
       "            <td>F. Baltes, S. Kaufman, U. Dirkscneider &amp; W. Hoffman</td>\n",
       "            <td>0.99</td>\n",
       "        </tr>\n",
       "        <tr>\n",
       "            <td>4</td>\n",
       "            <td>1</td>\n",
       "            <td>F. Baltes, R.A. Smith-Diesel, S. Kaufman, U. Dirkscneider &amp; W. Hoffman</td>\n",
       "            <td>0.99</td>\n",
       "        </tr>\n",
       "        <tr>\n",
       "            <td>5</td>\n",
       "            <td>1</td>\n",
       "            <td>Deaffy &amp; R.A. Smith-Diesel</td>\n",
       "            <td>0.99</td>\n",
       "        </tr>\n",
       "        <tr>\n",
       "            <td>6</td>\n",
       "            <td>1</td>\n",
       "            <td>Angus Young, Malcolm Young, Brian Johnson</td>\n",
       "            <td>0.99</td>\n",
       "        </tr>\n",
       "        <tr>\n",
       "            <td>7</td>\n",
       "            <td>1</td>\n",
       "            <td>Angus Young, Malcolm Young, Brian Johnson</td>\n",
       "            <td>0.99</td>\n",
       "        </tr>\n",
       "        <tr>\n",
       "            <td>8</td>\n",
       "            <td>1</td>\n",
       "            <td>Angus Young, Malcolm Young, Brian Johnson</td>\n",
       "            <td>0.99</td>\n",
       "        </tr>\n",
       "        <tr>\n",
       "            <td>9</td>\n",
       "            <td>1</td>\n",
       "            <td>Angus Young, Malcolm Young, Brian Johnson</td>\n",
       "            <td>0.99</td>\n",
       "        </tr>\n",
       "        <tr>\n",
       "            <td>10</td>\n",
       "            <td>1</td>\n",
       "            <td>Angus Young, Malcolm Young, Brian Johnson</td>\n",
       "            <td>0.99</td>\n",
       "        </tr>\n",
       "    </tbody>\n",
       "</table>"
      ],
      "text/plain": [
       "[(1, 1, 'Angus Young, Malcolm Young, Brian Johnson', 0.99),\n",
       " (2, 1, None, 0.99),\n",
       " (3, 1, 'F. Baltes, S. Kaufman, U. Dirkscneider & W. Hoffman', 0.99),\n",
       " (4, 1, 'F. Baltes, R.A. Smith-Diesel, S. Kaufman, U. Dirkscneider & W. Hoffman', 0.99),\n",
       " (5, 1, 'Deaffy & R.A. Smith-Diesel', 0.99),\n",
       " (6, 1, 'Angus Young, Malcolm Young, Brian Johnson', 0.99),\n",
       " (7, 1, 'Angus Young, Malcolm Young, Brian Johnson', 0.99),\n",
       " (8, 1, 'Angus Young, Malcolm Young, Brian Johnson', 0.99),\n",
       " (9, 1, 'Angus Young, Malcolm Young, Brian Johnson', 0.99),\n",
       " (10, 1, 'Angus Young, Malcolm Young, Brian Johnson', 0.99)]"
      ]
     },
     "execution_count": 11,
     "metadata": {},
     "output_type": "execute_result"
    }
   ],
   "source": [
    "%%sql\n",
    "Select TrackId, \n",
    "GenreId, \n",
    "Composer, \n",
    "UnitPrice \n",
    "From Track LIMIT 10"
   ]
  },
  {
   "cell_type": "code",
   "execution_count": 12,
   "id": "e22c77a4",
   "metadata": {},
   "outputs": [
    {
     "name": "stdout",
     "output_type": "stream",
     "text": [
      " * sqlite:///Chinook_Sqlite.sqlite\n",
      "Done.\n"
     ]
    },
    {
     "data": {
      "text/html": [
       "<table>\n",
       "    <thead>\n",
       "        <tr>\n",
       "            <th>PlaylistId</th>\n",
       "        </tr>\n",
       "    </thead>\n",
       "    <tbody>\n",
       "        <tr>\n",
       "            <td>1</td>\n",
       "        </tr>\n",
       "        <tr>\n",
       "            <td>3</td>\n",
       "        </tr>\n",
       "        <tr>\n",
       "            <td>5</td>\n",
       "        </tr>\n",
       "        <tr>\n",
       "            <td>8</td>\n",
       "        </tr>\n",
       "        <tr>\n",
       "            <td>9</td>\n",
       "        </tr>\n",
       "        <tr>\n",
       "            <td>10</td>\n",
       "        </tr>\n",
       "        <tr>\n",
       "            <td>11</td>\n",
       "        </tr>\n",
       "        <tr>\n",
       "            <td>12</td>\n",
       "        </tr>\n",
       "        <tr>\n",
       "            <td>13</td>\n",
       "        </tr>\n",
       "        <tr>\n",
       "            <td>14</td>\n",
       "        </tr>\n",
       "        <tr>\n",
       "            <td>15</td>\n",
       "        </tr>\n",
       "        <tr>\n",
       "            <td>16</td>\n",
       "        </tr>\n",
       "        <tr>\n",
       "            <td>17</td>\n",
       "        </tr>\n",
       "        <tr>\n",
       "            <td>18</td>\n",
       "        </tr>\n",
       "    </tbody>\n",
       "</table>"
      ],
      "text/plain": [
       "[(1,),\n",
       " (3,),\n",
       " (5,),\n",
       " (8,),\n",
       " (9,),\n",
       " (10,),\n",
       " (11,),\n",
       " (12,),\n",
       " (13,),\n",
       " (14,),\n",
       " (15,),\n",
       " (16,),\n",
       " (17,),\n",
       " (18,)]"
      ]
     },
     "execution_count": 12,
     "metadata": {},
     "output_type": "execute_result"
    }
   ],
   "source": [
    "%%sql\n",
    "Select DISTINCT PlaylistId \n",
    "From PlaylistTrack "
   ]
  },
  {
   "cell_type": "code",
   "execution_count": 13,
   "id": "a6eb7809",
   "metadata": {},
   "outputs": [
    {
     "name": "stdout",
     "output_type": "stream",
     "text": [
      " * sqlite:///Chinook_Sqlite.sqlite\n",
      "Done.\n"
     ]
    },
    {
     "data": {
      "text/html": [
       "<table>\n",
       "    <thead>\n",
       "        <tr>\n",
       "            <th>PlaylistId</th>\n",
       "            <th>TrackId</th>\n",
       "        </tr>\n",
       "    </thead>\n",
       "    <tbody>\n",
       "        <tr>\n",
       "            <td>1</td>\n",
       "            <td>3402</td>\n",
       "        </tr>\n",
       "        <tr>\n",
       "            <td>1</td>\n",
       "            <td>3389</td>\n",
       "        </tr>\n",
       "        <tr>\n",
       "            <td>1</td>\n",
       "            <td>3390</td>\n",
       "        </tr>\n",
       "        <tr>\n",
       "            <td>1</td>\n",
       "            <td>3391</td>\n",
       "        </tr>\n",
       "        <tr>\n",
       "            <td>1</td>\n",
       "            <td>3392</td>\n",
       "        </tr>\n",
       "        <tr>\n",
       "            <td>1</td>\n",
       "            <td>3393</td>\n",
       "        </tr>\n",
       "        <tr>\n",
       "            <td>1</td>\n",
       "            <td>3394</td>\n",
       "        </tr>\n",
       "        <tr>\n",
       "            <td>1</td>\n",
       "            <td>3395</td>\n",
       "        </tr>\n",
       "        <tr>\n",
       "            <td>1</td>\n",
       "            <td>3396</td>\n",
       "        </tr>\n",
       "        <tr>\n",
       "            <td>1</td>\n",
       "            <td>3397</td>\n",
       "        </tr>\n",
       "    </tbody>\n",
       "</table>"
      ],
      "text/plain": [
       "[(1, 3402),\n",
       " (1, 3389),\n",
       " (1, 3390),\n",
       " (1, 3391),\n",
       " (1, 3392),\n",
       " (1, 3393),\n",
       " (1, 3394),\n",
       " (1, 3395),\n",
       " (1, 3396),\n",
       " (1, 3397)]"
      ]
     },
     "execution_count": 13,
     "metadata": {},
     "output_type": "execute_result"
    }
   ],
   "source": [
    "%%sql\n",
    "Select PlaylistId,TrackId \n",
    "From PlaylistTrack LIMIT 10;"
   ]
  },
  {
   "cell_type": "code",
   "execution_count": 14,
   "id": "201a1cec",
   "metadata": {},
   "outputs": [
    {
     "name": "stdout",
     "output_type": "stream",
     "text": [
      " * sqlite:///Chinook_Sqlite.sqlite\n",
      "Done.\n"
     ]
    },
    {
     "data": {
      "text/html": [
       "<table>\n",
       "    <thead>\n",
       "        <tr>\n",
       "            <th>MediaTypeId</th>\n",
       "            <th>Name</th>\n",
       "        </tr>\n",
       "    </thead>\n",
       "    <tbody>\n",
       "        <tr>\n",
       "            <td>1</td>\n",
       "            <td>MPEG audio file</td>\n",
       "        </tr>\n",
       "        <tr>\n",
       "            <td>2</td>\n",
       "            <td>Protected AAC audio file</td>\n",
       "        </tr>\n",
       "        <tr>\n",
       "            <td>3</td>\n",
       "            <td>Protected MPEG-4 video file</td>\n",
       "        </tr>\n",
       "        <tr>\n",
       "            <td>4</td>\n",
       "            <td>Purchased AAC audio file</td>\n",
       "        </tr>\n",
       "        <tr>\n",
       "            <td>5</td>\n",
       "            <td>AAC audio file</td>\n",
       "        </tr>\n",
       "    </tbody>\n",
       "</table>"
      ],
      "text/plain": [
       "[(1, 'MPEG audio file'),\n",
       " (2, 'Protected AAC audio file'),\n",
       " (3, 'Protected MPEG-4 video file'),\n",
       " (4, 'Purchased AAC audio file'),\n",
       " (5, 'AAC audio file')]"
      ]
     },
     "execution_count": 14,
     "metadata": {},
     "output_type": "execute_result"
    }
   ],
   "source": [
    "%%sql\n",
    "Select *\n",
    "From MediaType\n",
    "Limit 50;"
   ]
  },
  {
   "cell_type": "code",
   "execution_count": 15,
   "id": "049c660a",
   "metadata": {},
   "outputs": [
    {
     "name": "stdout",
     "output_type": "stream",
     "text": [
      " * sqlite:///Chinook_Sqlite.sqlite\n",
      "Done.\n"
     ]
    },
    {
     "data": {
      "text/html": [
       "<table>\n",
       "    <thead>\n",
       "        <tr>\n",
       "            <th>PlaylistId</th>\n",
       "        </tr>\n",
       "    </thead>\n",
       "    <tbody>\n",
       "        <tr>\n",
       "            <td>3</td>\n",
       "        </tr>\n",
       "        <tr>\n",
       "            <td>3</td>\n",
       "        </tr>\n",
       "        <tr>\n",
       "            <td>3</td>\n",
       "        </tr>\n",
       "        <tr>\n",
       "            <td>3</td>\n",
       "        </tr>\n",
       "        <tr>\n",
       "            <td>3</td>\n",
       "        </tr>\n",
       "        <tr>\n",
       "            <td>3</td>\n",
       "        </tr>\n",
       "        <tr>\n",
       "            <td>3</td>\n",
       "        </tr>\n",
       "        <tr>\n",
       "            <td>3</td>\n",
       "        </tr>\n",
       "        <tr>\n",
       "            <td>3</td>\n",
       "        </tr>\n",
       "        <tr>\n",
       "            <td>3</td>\n",
       "        </tr>\n",
       "    </tbody>\n",
       "</table>"
      ],
      "text/plain": [
       "[(3,), (3,), (3,), (3,), (3,), (3,), (3,), (3,), (3,), (3,)]"
      ]
     },
     "execution_count": 15,
     "metadata": {},
     "output_type": "execute_result"
    }
   ],
   "source": [
    "%%sql\n",
    "Select PlaylistId \n",
    "From PlaylistTrack\n",
    "WHERE PlaylistId>2 LIMIT 10;\n"
   ]
  },
  {
   "cell_type": "code",
   "execution_count": 16,
   "id": "a7a23678",
   "metadata": {},
   "outputs": [
    {
     "name": "stdout",
     "output_type": "stream",
     "text": [
      " * sqlite:///Chinook_Sqlite.sqlite\n",
      "Done.\n"
     ]
    },
    {
     "data": {
      "text/html": [
       "<table>\n",
       "    <thead>\n",
       "        <tr>\n",
       "            <th>PlaylistId</th>\n",
       "        </tr>\n",
       "    </thead>\n",
       "    <tbody>\n",
       "        <tr>\n",
       "            <td>1</td>\n",
       "        </tr>\n",
       "        <tr>\n",
       "            <td>3</td>\n",
       "        </tr>\n",
       "        <tr>\n",
       "            <td>5</td>\n",
       "        </tr>\n",
       "        <tr>\n",
       "            <td>8</td>\n",
       "        </tr>\n",
       "        <tr>\n",
       "            <td>9</td>\n",
       "        </tr>\n",
       "        <tr>\n",
       "            <td>10</td>\n",
       "        </tr>\n",
       "        <tr>\n",
       "            <td>11</td>\n",
       "        </tr>\n",
       "        <tr>\n",
       "            <td>12</td>\n",
       "        </tr>\n",
       "        <tr>\n",
       "            <td>13</td>\n",
       "        </tr>\n",
       "        <tr>\n",
       "            <td>14</td>\n",
       "        </tr>\n",
       "    </tbody>\n",
       "</table>"
      ],
      "text/plain": [
       "[(1,), (3,), (5,), (8,), (9,), (10,), (11,), (12,), (13,), (14,)]"
      ]
     },
     "execution_count": 16,
     "metadata": {},
     "output_type": "execute_result"
    }
   ],
   "source": [
    "%%sql\n",
    "Select DISTINCT PlaylistId \n",
    "From PlaylistTrack\n",
    "WHERE PlaylistId<>2 LIMIT 10;"
   ]
  },
  {
   "cell_type": "code",
   "execution_count": 17,
   "id": "5a21b56e",
   "metadata": {},
   "outputs": [
    {
     "name": "stdout",
     "output_type": "stream",
     "text": [
      " * sqlite:///Chinook_Sqlite.sqlite\n",
      "Done.\n"
     ]
    },
    {
     "data": {
      "text/html": [
       "<table>\n",
       "    <thead>\n",
       "        <tr>\n",
       "            <th>COUNT(PlaylistId)</th>\n",
       "        </tr>\n",
       "    </thead>\n",
       "    <tbody>\n",
       "        <tr>\n",
       "            <td>8715</td>\n",
       "        </tr>\n",
       "    </tbody>\n",
       "</table>"
      ],
      "text/plain": [
       "[(8715,)]"
      ]
     },
     "execution_count": 17,
     "metadata": {},
     "output_type": "execute_result"
    }
   ],
   "source": [
    "%%sql\n",
    "Select COUNT(PlaylistId) \n",
    "From PlaylistTrack\n",
    "WHERE PlaylistId;"
   ]
  },
  {
   "cell_type": "code",
   "execution_count": 18,
   "id": "f113822b",
   "metadata": {},
   "outputs": [
    {
     "name": "stdout",
     "output_type": "stream",
     "text": [
      " * sqlite:///Chinook_Sqlite.sqlite\n",
      "Done.\n"
     ]
    },
    {
     "data": {
      "text/html": [
       "<table>\n",
       "    <thead>\n",
       "        <tr>\n",
       "            <th>PlaylistId</th>\n",
       "        </tr>\n",
       "    </thead>\n",
       "    <tbody>\n",
       "        <tr>\n",
       "            <td>1</td>\n",
       "        </tr>\n",
       "        <tr>\n",
       "            <td>3</td>\n",
       "        </tr>\n",
       "    </tbody>\n",
       "</table>"
      ],
      "text/plain": [
       "[(1,), (3,)]"
      ]
     },
     "execution_count": 18,
     "metadata": {},
     "output_type": "execute_result"
    }
   ],
   "source": [
    "%%sql\n",
    "Select DISTINCT PlaylistId \n",
    "From PlaylistTrack\n",
    "WHERE PlaylistId\n",
    "BETWEEN 0 AND 4;"
   ]
  },
  {
   "cell_type": "code",
   "execution_count": 19,
   "id": "a806406c",
   "metadata": {},
   "outputs": [
    {
     "name": "stdout",
     "output_type": "stream",
     "text": [
      " * sqlite:///Chinook_Sqlite.sqlite\n",
      "Done.\n"
     ]
    },
    {
     "data": {
      "text/html": [
       "<table>\n",
       "    <thead>\n",
       "        <tr>\n",
       "            <th>AlbumId</th>\n",
       "            <th>Title</th>\n",
       "            <th>ArtistId</th>\n",
       "        </tr>\n",
       "    </thead>\n",
       "    <tbody>\n",
       "    </tbody>\n",
       "</table>"
      ],
      "text/plain": [
       "[]"
      ]
     },
     "execution_count": 19,
     "metadata": {},
     "output_type": "execute_result"
    }
   ],
   "source": [
    "%%sql\n",
    "SELECT * FROM Album WHERE Title IS NULL;"
   ]
  },
  {
   "cell_type": "code",
   "execution_count": 20,
   "id": "89ecb4c6",
   "metadata": {},
   "outputs": [
    {
     "name": "stdout",
     "output_type": "stream",
     "text": [
      " * sqlite:///Chinook_Sqlite.sqlite\n",
      "Done.\n"
     ]
    },
    {
     "data": {
      "text/html": [
       "<table>\n",
       "    <thead>\n",
       "        <tr>\n",
       "            <th>AlbumId</th>\n",
       "            <th>Title</th>\n",
       "            <th>ArtistId</th>\n",
       "        </tr>\n",
       "    </thead>\n",
       "    <tbody>\n",
       "        <tr>\n",
       "            <td>1</td>\n",
       "            <td>For Those About To Rock We Salute You</td>\n",
       "            <td>1</td>\n",
       "        </tr>\n",
       "        <tr>\n",
       "            <td>2</td>\n",
       "            <td>Balls to the Wall</td>\n",
       "            <td>2</td>\n",
       "        </tr>\n",
       "        <tr>\n",
       "            <td>3</td>\n",
       "            <td>Restless and Wild</td>\n",
       "            <td>2</td>\n",
       "        </tr>\n",
       "        <tr>\n",
       "            <td>4</td>\n",
       "            <td>Let There Be Rock</td>\n",
       "            <td>1</td>\n",
       "        </tr>\n",
       "        <tr>\n",
       "            <td>5</td>\n",
       "            <td>Big Ones</td>\n",
       "            <td>3</td>\n",
       "        </tr>\n",
       "        <tr>\n",
       "            <td>6</td>\n",
       "            <td>Jagged Little Pill</td>\n",
       "            <td>4</td>\n",
       "        </tr>\n",
       "        <tr>\n",
       "            <td>7</td>\n",
       "            <td>Facelift</td>\n",
       "            <td>5</td>\n",
       "        </tr>\n",
       "        <tr>\n",
       "            <td>8</td>\n",
       "            <td>Warner 25 Anos</td>\n",
       "            <td>6</td>\n",
       "        </tr>\n",
       "        <tr>\n",
       "            <td>9</td>\n",
       "            <td>Plays Metallica By Four Cellos</td>\n",
       "            <td>7</td>\n",
       "        </tr>\n",
       "        <tr>\n",
       "            <td>10</td>\n",
       "            <td>Audioslave</td>\n",
       "            <td>8</td>\n",
       "        </tr>\n",
       "    </tbody>\n",
       "</table>"
      ],
      "text/plain": [
       "[(1, 'For Those About To Rock We Salute You', 1),\n",
       " (2, 'Balls to the Wall', 2),\n",
       " (3, 'Restless and Wild', 2),\n",
       " (4, 'Let There Be Rock', 1),\n",
       " (5, 'Big Ones', 3),\n",
       " (6, 'Jagged Little Pill', 4),\n",
       " (7, 'Facelift', 5),\n",
       " (8, 'Warner 25 Anos', 6),\n",
       " (9, 'Plays Metallica By Four Cellos', 7),\n",
       " (10, 'Audioslave', 8)]"
      ]
     },
     "execution_count": 20,
     "metadata": {},
     "output_type": "execute_result"
    }
   ],
   "source": [
    "%%sql\n",
    "SELECT * FROM Album LIMIT 10;"
   ]
  },
  {
   "cell_type": "code",
   "execution_count": 21,
   "id": "dc96254a",
   "metadata": {},
   "outputs": [
    {
     "name": "stdout",
     "output_type": "stream",
     "text": [
      " * sqlite:///Chinook_Sqlite.sqlite\n",
      "Done.\n"
     ]
    },
    {
     "data": {
      "text/html": [
       "<table>\n",
       "    <thead>\n",
       "        <tr>\n",
       "            <th>AlbumId</th>\n",
       "            <th>Title</th>\n",
       "            <th>ArtistId</th>\n",
       "        </tr>\n",
       "    </thead>\n",
       "    <tbody>\n",
       "        <tr>\n",
       "            <td>1</td>\n",
       "            <td>For Those About To Rock We Salute You</td>\n",
       "            <td>1</td>\n",
       "        </tr>\n",
       "        <tr>\n",
       "            <td>4</td>\n",
       "            <td>Let There Be Rock</td>\n",
       "            <td>1</td>\n",
       "        </tr>\n",
       "        <tr>\n",
       "            <td>2</td>\n",
       "            <td>Balls to the Wall</td>\n",
       "            <td>2</td>\n",
       "        </tr>\n",
       "        <tr>\n",
       "            <td>3</td>\n",
       "            <td>Restless and Wild</td>\n",
       "            <td>2</td>\n",
       "        </tr>\n",
       "        <tr>\n",
       "            <td>5</td>\n",
       "            <td>Big Ones</td>\n",
       "            <td>3</td>\n",
       "        </tr>\n",
       "    </tbody>\n",
       "</table>"
      ],
      "text/plain": [
       "[(1, 'For Those About To Rock We Salute You', 1),\n",
       " (4, 'Let There Be Rock', 1),\n",
       " (2, 'Balls to the Wall', 2),\n",
       " (3, 'Restless and Wild', 2),\n",
       " (5, 'Big Ones', 3)]"
      ]
     },
     "execution_count": 21,
     "metadata": {},
     "output_type": "execute_result"
    }
   ],
   "source": [
    "%%sql\n",
    "SELECT * FROM ALbum WHERE ArtistId IN (1,2,3)"
   ]
  },
  {
   "cell_type": "code",
   "execution_count": 22,
   "id": "4ba2db64",
   "metadata": {},
   "outputs": [
    {
     "name": "stdout",
     "output_type": "stream",
     "text": [
      " * sqlite:///Chinook_Sqlite.sqlite\n",
      "Done.\n"
     ]
    },
    {
     "data": {
      "text/html": [
       "<table>\n",
       "    <thead>\n",
       "        <tr>\n",
       "            <th>AlbumId</th>\n",
       "            <th>Title</th>\n",
       "            <th>ArtistId</th>\n",
       "        </tr>\n",
       "    </thead>\n",
       "    <tbody>\n",
       "        <tr>\n",
       "            <td>1</td>\n",
       "            <td>For Those About To Rock We Salute You</td>\n",
       "            <td>1</td>\n",
       "        </tr>\n",
       "        <tr>\n",
       "            <td>4</td>\n",
       "            <td>Let There Be Rock</td>\n",
       "            <td>1</td>\n",
       "        </tr>\n",
       "    </tbody>\n",
       "</table>"
      ],
      "text/plain": [
       "[(1, 'For Those About To Rock We Salute You', 1), (4, 'Let There Be Rock', 1)]"
      ]
     },
     "execution_count": 22,
     "metadata": {},
     "output_type": "execute_result"
    }
   ],
   "source": [
    "%%sql\n",
    "SELECT * FROM ALbum WHERE ArtistId==1;"
   ]
  },
  {
   "cell_type": "code",
   "execution_count": 23,
   "id": "2acb5b35",
   "metadata": {},
   "outputs": [
    {
     "name": "stdout",
     "output_type": "stream",
     "text": [
      " * sqlite:///Chinook_Sqlite.sqlite\n",
      "Done.\n"
     ]
    },
    {
     "data": {
      "text/html": [
       "<table>\n",
       "    <thead>\n",
       "        <tr>\n",
       "            <th>AlbumId</th>\n",
       "            <th>Title</th>\n",
       "            <th>ArtistId</th>\n",
       "        </tr>\n",
       "    </thead>\n",
       "    <tbody>\n",
       "        <tr>\n",
       "            <td>1</td>\n",
       "            <td>For Those About To Rock We Salute You</td>\n",
       "            <td>1</td>\n",
       "        </tr>\n",
       "        <tr>\n",
       "            <td>4</td>\n",
       "            <td>Let There Be Rock</td>\n",
       "            <td>1</td>\n",
       "        </tr>\n",
       "    </tbody>\n",
       "</table>"
      ],
      "text/plain": [
       "[(1, 'For Those About To Rock We Salute You', 1), (4, 'Let There Be Rock', 1)]"
      ]
     },
     "execution_count": 23,
     "metadata": {},
     "output_type": "execute_result"
    }
   ],
   "source": [
    "%%sql\n",
    "SELECT * FROM ALbum WHERE AlbumId IN (1,4)"
   ]
  },
  {
   "cell_type": "code",
   "execution_count": 24,
   "id": "c0799583",
   "metadata": {},
   "outputs": [
    {
     "name": "stdout",
     "output_type": "stream",
     "text": [
      " * sqlite:///Chinook_Sqlite.sqlite\n",
      "Done.\n"
     ]
    },
    {
     "data": {
      "text/html": [
       "<table>\n",
       "    <thead>\n",
       "        <tr>\n",
       "            <th>AlbumId</th>\n",
       "            <th>Title</th>\n",
       "            <th>ArtistId</th>\n",
       "        </tr>\n",
       "    </thead>\n",
       "    <tbody>\n",
       "        <tr>\n",
       "            <td>1</td>\n",
       "            <td>For Those About To Rock We Salute You</td>\n",
       "            <td>1</td>\n",
       "        </tr>\n",
       "        <tr>\n",
       "            <td>4</td>\n",
       "            <td>Let There Be Rock</td>\n",
       "            <td>1</td>\n",
       "        </tr>\n",
       "    </tbody>\n",
       "</table>"
      ],
      "text/plain": [
       "[(1, 'For Those About To Rock We Salute You', 1), (4, 'Let There Be Rock', 1)]"
      ]
     },
     "execution_count": 24,
     "metadata": {},
     "output_type": "execute_result"
    }
   ],
   "source": [
    "%%sql\n",
    "SELECT * FROM ALbum WHERE AlbumId = 1 OR AlbumId = 4;"
   ]
  },
  {
   "cell_type": "code",
   "execution_count": 25,
   "id": "5e109a9b",
   "metadata": {},
   "outputs": [
    {
     "name": "stdout",
     "output_type": "stream",
     "text": [
      " * sqlite:///Chinook_Sqlite.sqlite\n",
      "Done.\n"
     ]
    },
    {
     "data": {
      "text/html": [
       "<table>\n",
       "    <thead>\n",
       "        <tr>\n",
       "            <th>AlbumId</th>\n",
       "            <th>Title</th>\n",
       "            <th>ArtistId</th>\n",
       "        </tr>\n",
       "    </thead>\n",
       "    <tbody>\n",
       "        <tr>\n",
       "            <td>3</td>\n",
       "            <td>Restless and Wild</td>\n",
       "            <td>2</td>\n",
       "        </tr>\n",
       "        <tr>\n",
       "            <td>10</td>\n",
       "            <td>Audioslave</td>\n",
       "            <td>8</td>\n",
       "        </tr>\n",
       "        <tr>\n",
       "            <td>11</td>\n",
       "            <td>Out Of Exile</td>\n",
       "            <td>8</td>\n",
       "        </tr>\n",
       "        <tr>\n",
       "            <td>271</td>\n",
       "            <td>Revelations</td>\n",
       "            <td>8</td>\n",
       "        </tr>\n",
       "    </tbody>\n",
       "</table>"
      ],
      "text/plain": [
       "[(3, 'Restless and Wild', 2),\n",
       " (10, 'Audioslave', 8),\n",
       " (11, 'Out Of Exile', 8),\n",
       " (271, 'Revelations', 8)]"
      ]
     },
     "execution_count": 25,
     "metadata": {},
     "output_type": "execute_result"
    }
   ],
   "source": [
    "%%sql\n",
    "SELECT * FROM Album WHERE(ArtistId=2 OR ArtistId=8) AND AlbumId>2 LIMIT 50;"
   ]
  },
  {
   "cell_type": "code",
   "execution_count": 26,
   "id": "d54874d4",
   "metadata": {},
   "outputs": [
    {
     "name": "stdout",
     "output_type": "stream",
     "text": [
      " * sqlite:///Chinook_Sqlite.sqlite\n",
      "Done.\n"
     ]
    },
    {
     "data": {
      "text/html": [
       "<table>\n",
       "    <thead>\n",
       "        <tr>\n",
       "            <th>AlbumId</th>\n",
       "            <th>Title</th>\n",
       "            <th>ArtistId</th>\n",
       "        </tr>\n",
       "    </thead>\n",
       "    <tbody>\n",
       "        <tr>\n",
       "            <td>2</td>\n",
       "            <td>Balls to the Wall</td>\n",
       "            <td>2</td>\n",
       "        </tr>\n",
       "        <tr>\n",
       "            <td>3</td>\n",
       "            <td>Restless and Wild</td>\n",
       "            <td>2</td>\n",
       "        </tr>\n",
       "        <tr>\n",
       "            <td>11</td>\n",
       "            <td>Out Of Exile</td>\n",
       "            <td>8</td>\n",
       "        </tr>\n",
       "        <tr>\n",
       "            <td>271</td>\n",
       "            <td>Revelations</td>\n",
       "            <td>8</td>\n",
       "        </tr>\n",
       "    </tbody>\n",
       "</table>"
      ],
      "text/plain": [
       "[(2, 'Balls to the Wall', 2),\n",
       " (3, 'Restless and Wild', 2),\n",
       " (11, 'Out Of Exile', 8),\n",
       " (271, 'Revelations', 8)]"
      ]
     },
     "execution_count": 26,
     "metadata": {},
     "output_type": "execute_result"
    }
   ],
   "source": [
    "%%sql\n",
    "SELECT * FROM Album WHERE(ArtistId=2 OR ArtistId=8) AND AlbumId<>10 LIMIT 50;"
   ]
  },
  {
   "cell_type": "code",
   "execution_count": 27,
   "id": "ea1d0d2f",
   "metadata": {},
   "outputs": [
    {
     "name": "stdout",
     "output_type": "stream",
     "text": [
      " * sqlite:///Chinook_Sqlite.sqlite\n",
      "Done.\n"
     ]
    },
    {
     "data": {
      "text/html": [
       "<table>\n",
       "    <thead>\n",
       "        <tr>\n",
       "            <th>AlbumId</th>\n",
       "            <th>Title</th>\n",
       "            <th>ArtistId</th>\n",
       "        </tr>\n",
       "    </thead>\n",
       "    <tbody>\n",
       "        <tr>\n",
       "            <td>2</td>\n",
       "            <td>Balls to the Wall</td>\n",
       "            <td>2</td>\n",
       "        </tr>\n",
       "    </tbody>\n",
       "</table>"
      ],
      "text/plain": [
       "[(2, 'Balls to the Wall', 2)]"
      ]
     },
     "execution_count": 27,
     "metadata": {},
     "output_type": "execute_result"
    }
   ],
   "source": [
    "%%sql\n",
    "SELECT * FROM Album WHERE Title LIKE '%Wall%';"
   ]
  },
  {
   "cell_type": "code",
   "execution_count": 28,
   "id": "4372ee8c",
   "metadata": {},
   "outputs": [
    {
     "name": "stdout",
     "output_type": "stream",
     "text": [
      " * sqlite:///Chinook_Sqlite.sqlite\n",
      "Done.\n"
     ]
    },
    {
     "data": {
      "text/html": [
       "<table>\n",
       "    <thead>\n",
       "        <tr>\n",
       "            <th>AlbumId</th>\n",
       "            <th>Title</th>\n",
       "            <th>ArtistId</th>\n",
       "        </tr>\n",
       "    </thead>\n",
       "    <tbody>\n",
       "        <tr>\n",
       "            <td>2</td>\n",
       "            <td>Balls to the Wall</td>\n",
       "            <td>2</td>\n",
       "        </tr>\n",
       "    </tbody>\n",
       "</table>"
      ],
      "text/plain": [
       "[(2, 'Balls to the Wall', 2)]"
      ]
     },
     "execution_count": 28,
     "metadata": {},
     "output_type": "execute_result"
    }
   ],
   "source": [
    "%%sql\n",
    "SELECT * FROM Album WHERE Title LIKE 'Bal%';"
   ]
  },
  {
   "cell_type": "code",
   "execution_count": 29,
   "id": "ae35a678",
   "metadata": {},
   "outputs": [
    {
     "name": "stdout",
     "output_type": "stream",
     "text": [
      " * sqlite:///Chinook_Sqlite.sqlite\n",
      "Done.\n"
     ]
    },
    {
     "data": {
      "text/html": [
       "<table>\n",
       "    <thead>\n",
       "        <tr>\n",
       "            <th>AlbumId</th>\n",
       "            <th>Title</th>\n",
       "            <th>ArtistId</th>\n",
       "        </tr>\n",
       "    </thead>\n",
       "    <tbody>\n",
       "        <tr>\n",
       "            <td>2</td>\n",
       "            <td>Balls to the Wall</td>\n",
       "            <td>2</td>\n",
       "        </tr>\n",
       "    </tbody>\n",
       "</table>"
      ],
      "text/plain": [
       "[(2, 'Balls to the Wall', 2)]"
      ]
     },
     "execution_count": 29,
     "metadata": {},
     "output_type": "execute_result"
    }
   ],
   "source": [
    "%%sql\n",
    "SELECT * FROM Album WHERE Title LIKE '%Wall';"
   ]
  },
  {
   "cell_type": "markdown",
   "id": "a5304e84",
   "metadata": {},
   "source": [
    "Statement with wildcards will take longer to run if used at the end of the search patterns.Thats why placement of wildcards is important"
   ]
  },
  {
   "cell_type": "code",
   "execution_count": 30,
   "id": "7bef8e1e",
   "metadata": {},
   "outputs": [
    {
     "name": "stdout",
     "output_type": "stream",
     "text": [
      " * sqlite:///Chinook_Sqlite.sqlite\n",
      "Done.\n"
     ]
    },
    {
     "data": {
      "text/html": [
       "<table>\n",
       "    <thead>\n",
       "        <tr>\n",
       "            <th>AlbumId</th>\n",
       "            <th>Title</th>\n",
       "            <th>ArtistId</th>\n",
       "        </tr>\n",
       "    </thead>\n",
       "    <tbody>\n",
       "        <tr>\n",
       "            <td>347</td>\n",
       "            <td>Koyaanisqatsi (Soundtrack from the Motion Picture)</td>\n",
       "            <td>275</td>\n",
       "        </tr>\n",
       "        <tr>\n",
       "            <td>346</td>\n",
       "            <td>Mozart: Chamber Music</td>\n",
       "            <td>274</td>\n",
       "        </tr>\n",
       "        <tr>\n",
       "            <td>345</td>\n",
       "            <td>Monteverdi: L&#x27;Orfeo</td>\n",
       "            <td>273</td>\n",
       "        </tr>\n",
       "        <tr>\n",
       "            <td>344</td>\n",
       "            <td>Schubert: The Late String Quartets &amp; String Quintet (3 CD&#x27;s)</td>\n",
       "            <td>272</td>\n",
       "        </tr>\n",
       "        <tr>\n",
       "            <td>343</td>\n",
       "            <td>Respighi:Pines of Rome</td>\n",
       "            <td>226</td>\n",
       "        </tr>\n",
       "        <tr>\n",
       "            <td>342</td>\n",
       "            <td>Locatelli: Concertos for Violin, Strings and Continuo, Vol. 3</td>\n",
       "            <td>271</td>\n",
       "        </tr>\n",
       "        <tr>\n",
       "            <td>341</td>\n",
       "            <td>Great Recordings of the Century - Shubert: Schwanengesang, 4 Lieder</td>\n",
       "            <td>270</td>\n",
       "        </tr>\n",
       "        <tr>\n",
       "            <td>340</td>\n",
       "            <td>Liszt - 12 Études D&#x27;Execution Transcendante</td>\n",
       "            <td>269</td>\n",
       "        </tr>\n",
       "        <tr>\n",
       "            <td>339</td>\n",
       "            <td>Great Recordings of the Century: Paganini&#x27;s 24 Caprices</td>\n",
       "            <td>268</td>\n",
       "        </tr>\n",
       "        <tr>\n",
       "            <td>338</td>\n",
       "            <td>Nielsen: The Six Symphonies</td>\n",
       "            <td>267</td>\n",
       "        </tr>\n",
       "    </tbody>\n",
       "</table>"
      ],
      "text/plain": [
       "[(347, 'Koyaanisqatsi (Soundtrack from the Motion Picture)', 275),\n",
       " (346, 'Mozart: Chamber Music', 274),\n",
       " (345, \"Monteverdi: L'Orfeo\", 273),\n",
       " (344, \"Schubert: The Late String Quartets & String Quintet (3 CD's)\", 272),\n",
       " (343, 'Respighi:Pines of Rome', 226),\n",
       " (342, 'Locatelli: Concertos for Violin, Strings and Continuo, Vol. 3', 271),\n",
       " (341, 'Great Recordings of the Century - Shubert: Schwanengesang, 4 Lieder', 270),\n",
       " (340, \"Liszt - 12 Études D'Execution Transcendante\", 269),\n",
       " (339, \"Great Recordings of the Century: Paganini's 24 Caprices\", 268),\n",
       " (338, 'Nielsen: The Six Symphonies', 267)]"
      ]
     },
     "execution_count": 30,
     "metadata": {},
     "output_type": "execute_result"
    }
   ],
   "source": [
    "%%sql\n",
    "SELECT * FROM Album ORDER BY AlbumId DESC LIMIT 10 ;"
   ]
  },
  {
   "cell_type": "code",
   "execution_count": 31,
   "id": "132fe24a",
   "metadata": {},
   "outputs": [
    {
     "name": "stdout",
     "output_type": "stream",
     "text": [
      " * sqlite:///Chinook_Sqlite.sqlite\n",
      "Done.\n"
     ]
    },
    {
     "data": {
      "text/html": [
       "<table>\n",
       "    <thead>\n",
       "        <tr>\n",
       "            <th>AlbumId</th>\n",
       "            <th>Title</th>\n",
       "            <th>ArtistId</th>\n",
       "        </tr>\n",
       "    </thead>\n",
       "    <tbody>\n",
       "        <tr>\n",
       "            <td>1</td>\n",
       "            <td>For Those About To Rock We Salute You</td>\n",
       "            <td>1</td>\n",
       "        </tr>\n",
       "        <tr>\n",
       "            <td>2</td>\n",
       "            <td>Balls to the Wall</td>\n",
       "            <td>2</td>\n",
       "        </tr>\n",
       "        <tr>\n",
       "            <td>3</td>\n",
       "            <td>Restless and Wild</td>\n",
       "            <td>2</td>\n",
       "        </tr>\n",
       "        <tr>\n",
       "            <td>4</td>\n",
       "            <td>Let There Be Rock</td>\n",
       "            <td>1</td>\n",
       "        </tr>\n",
       "        <tr>\n",
       "            <td>5</td>\n",
       "            <td>Big Ones</td>\n",
       "            <td>3</td>\n",
       "        </tr>\n",
       "        <tr>\n",
       "            <td>6</td>\n",
       "            <td>Jagged Little Pill</td>\n",
       "            <td>4</td>\n",
       "        </tr>\n",
       "        <tr>\n",
       "            <td>7</td>\n",
       "            <td>Facelift</td>\n",
       "            <td>5</td>\n",
       "        </tr>\n",
       "        <tr>\n",
       "            <td>8</td>\n",
       "            <td>Warner 25 Anos</td>\n",
       "            <td>6</td>\n",
       "        </tr>\n",
       "        <tr>\n",
       "            <td>9</td>\n",
       "            <td>Plays Metallica By Four Cellos</td>\n",
       "            <td>7</td>\n",
       "        </tr>\n",
       "        <tr>\n",
       "            <td>10</td>\n",
       "            <td>Audioslave</td>\n",
       "            <td>8</td>\n",
       "        </tr>\n",
       "    </tbody>\n",
       "</table>"
      ],
      "text/plain": [
       "[(1, 'For Those About To Rock We Salute You', 1),\n",
       " (2, 'Balls to the Wall', 2),\n",
       " (3, 'Restless and Wild', 2),\n",
       " (4, 'Let There Be Rock', 1),\n",
       " (5, 'Big Ones', 3),\n",
       " (6, 'Jagged Little Pill', 4),\n",
       " (7, 'Facelift', 5),\n",
       " (8, 'Warner 25 Anos', 6),\n",
       " (9, 'Plays Metallica By Four Cellos', 7),\n",
       " (10, 'Audioslave', 8)]"
      ]
     },
     "execution_count": 31,
     "metadata": {},
     "output_type": "execute_result"
    }
   ],
   "source": [
    "%%sql\n",
    "SELECT * FROM Album ORDER BY AlbumId ASC LIMIT 10 ;"
   ]
  },
  {
   "cell_type": "code",
   "execution_count": 32,
   "id": "87b31643",
   "metadata": {},
   "outputs": [
    {
     "name": "stdout",
     "output_type": "stream",
     "text": [
      " * sqlite:///Chinook_Sqlite.sqlite\n",
      "(sqlite3.OperationalError) near \".\": syntax error\n",
      "[SQL: .tables]\n",
      "(Background on this error at: https://sqlalche.me/e/20/e3q8)\n"
     ]
    }
   ],
   "source": [
    "%%sql\n",
    ".tables"
   ]
  },
  {
   "cell_type": "markdown",
   "id": "726579f1",
   "metadata": {},
   "source": [
    "AGGRAGATE FUNCTION\n",
    "    * AVG() ,\n",
    "    *COUNT() ,\n",
    "    *MIN() ,\n",
    "    *MAX() ,\n",
    "    *SUM() ,"
   ]
  },
  {
   "cell_type": "code",
   "execution_count": 33,
   "id": "505bef34",
   "metadata": {},
   "outputs": [
    {
     "name": "stdout",
     "output_type": "stream",
     "text": [
      " * sqlite:///Chinook_Sqlite.sqlite\n",
      "Done.\n"
     ]
    },
    {
     "data": {
      "text/html": [
       "<table>\n",
       "    <thead>\n",
       "        <tr>\n",
       "            <th>InvoiceLineId</th>\n",
       "            <th>InvoiceId</th>\n",
       "            <th>TrackId</th>\n",
       "            <th>UnitPrice</th>\n",
       "            <th>Quantity</th>\n",
       "        </tr>\n",
       "    </thead>\n",
       "    <tbody>\n",
       "        <tr>\n",
       "            <td>2240</td>\n",
       "            <td>412</td>\n",
       "            <td>3177</td>\n",
       "            <td>1.99</td>\n",
       "            <td>1</td>\n",
       "        </tr>\n",
       "        <tr>\n",
       "            <td>2239</td>\n",
       "            <td>411</td>\n",
       "            <td>3163</td>\n",
       "            <td>0.99</td>\n",
       "            <td>1</td>\n",
       "        </tr>\n",
       "        <tr>\n",
       "            <td>2238</td>\n",
       "            <td>411</td>\n",
       "            <td>3154</td>\n",
       "            <td>0.99</td>\n",
       "            <td>1</td>\n",
       "        </tr>\n",
       "        <tr>\n",
       "            <td>2237</td>\n",
       "            <td>411</td>\n",
       "            <td>3145</td>\n",
       "            <td>0.99</td>\n",
       "            <td>1</td>\n",
       "        </tr>\n",
       "        <tr>\n",
       "            <td>2236</td>\n",
       "            <td>411</td>\n",
       "            <td>3136</td>\n",
       "            <td>0.99</td>\n",
       "            <td>1</td>\n",
       "        </tr>\n",
       "        <tr>\n",
       "            <td>2235</td>\n",
       "            <td>411</td>\n",
       "            <td>3127</td>\n",
       "            <td>0.99</td>\n",
       "            <td>1</td>\n",
       "        </tr>\n",
       "        <tr>\n",
       "            <td>2234</td>\n",
       "            <td>411</td>\n",
       "            <td>3118</td>\n",
       "            <td>0.99</td>\n",
       "            <td>1</td>\n",
       "        </tr>\n",
       "        <tr>\n",
       "            <td>2233</td>\n",
       "            <td>411</td>\n",
       "            <td>3109</td>\n",
       "            <td>0.99</td>\n",
       "            <td>1</td>\n",
       "        </tr>\n",
       "        <tr>\n",
       "            <td>2232</td>\n",
       "            <td>411</td>\n",
       "            <td>3100</td>\n",
       "            <td>0.99</td>\n",
       "            <td>1</td>\n",
       "        </tr>\n",
       "        <tr>\n",
       "            <td>2231</td>\n",
       "            <td>411</td>\n",
       "            <td>3091</td>\n",
       "            <td>0.99</td>\n",
       "            <td>1</td>\n",
       "        </tr>\n",
       "        <tr>\n",
       "            <td>2230</td>\n",
       "            <td>411</td>\n",
       "            <td>3082</td>\n",
       "            <td>0.99</td>\n",
       "            <td>1</td>\n",
       "        </tr>\n",
       "        <tr>\n",
       "            <td>2229</td>\n",
       "            <td>411</td>\n",
       "            <td>3073</td>\n",
       "            <td>0.99</td>\n",
       "            <td>1</td>\n",
       "        </tr>\n",
       "        <tr>\n",
       "            <td>2228</td>\n",
       "            <td>411</td>\n",
       "            <td>3064</td>\n",
       "            <td>0.99</td>\n",
       "            <td>1</td>\n",
       "        </tr>\n",
       "        <tr>\n",
       "            <td>2227</td>\n",
       "            <td>411</td>\n",
       "            <td>3055</td>\n",
       "            <td>0.99</td>\n",
       "            <td>1</td>\n",
       "        </tr>\n",
       "        <tr>\n",
       "            <td>2226</td>\n",
       "            <td>411</td>\n",
       "            <td>3046</td>\n",
       "            <td>0.99</td>\n",
       "            <td>1</td>\n",
       "        </tr>\n",
       "        <tr>\n",
       "            <td>2225</td>\n",
       "            <td>410</td>\n",
       "            <td>3037</td>\n",
       "            <td>0.99</td>\n",
       "            <td>1</td>\n",
       "        </tr>\n",
       "        <tr>\n",
       "            <td>2224</td>\n",
       "            <td>410</td>\n",
       "            <td>3031</td>\n",
       "            <td>0.99</td>\n",
       "            <td>1</td>\n",
       "        </tr>\n",
       "        <tr>\n",
       "            <td>2223</td>\n",
       "            <td>410</td>\n",
       "            <td>3025</td>\n",
       "            <td>0.99</td>\n",
       "            <td>1</td>\n",
       "        </tr>\n",
       "        <tr>\n",
       "            <td>2222</td>\n",
       "            <td>410</td>\n",
       "            <td>3019</td>\n",
       "            <td>0.99</td>\n",
       "            <td>1</td>\n",
       "        </tr>\n",
       "        <tr>\n",
       "            <td>2221</td>\n",
       "            <td>410</td>\n",
       "            <td>3013</td>\n",
       "            <td>0.99</td>\n",
       "            <td>1</td>\n",
       "        </tr>\n",
       "        <tr>\n",
       "            <td>2220</td>\n",
       "            <td>410</td>\n",
       "            <td>3007</td>\n",
       "            <td>0.99</td>\n",
       "            <td>1</td>\n",
       "        </tr>\n",
       "        <tr>\n",
       "            <td>2219</td>\n",
       "            <td>410</td>\n",
       "            <td>3001</td>\n",
       "            <td>0.99</td>\n",
       "            <td>1</td>\n",
       "        </tr>\n",
       "        <tr>\n",
       "            <td>2218</td>\n",
       "            <td>410</td>\n",
       "            <td>2995</td>\n",
       "            <td>0.99</td>\n",
       "            <td>1</td>\n",
       "        </tr>\n",
       "        <tr>\n",
       "            <td>2217</td>\n",
       "            <td>410</td>\n",
       "            <td>2989</td>\n",
       "            <td>0.99</td>\n",
       "            <td>1</td>\n",
       "        </tr>\n",
       "        <tr>\n",
       "            <td>2216</td>\n",
       "            <td>409</td>\n",
       "            <td>2983</td>\n",
       "            <td>0.99</td>\n",
       "            <td>1</td>\n",
       "        </tr>\n",
       "        <tr>\n",
       "            <td>2215</td>\n",
       "            <td>409</td>\n",
       "            <td>2979</td>\n",
       "            <td>0.99</td>\n",
       "            <td>1</td>\n",
       "        </tr>\n",
       "        <tr>\n",
       "            <td>2214</td>\n",
       "            <td>409</td>\n",
       "            <td>2975</td>\n",
       "            <td>0.99</td>\n",
       "            <td>1</td>\n",
       "        </tr>\n",
       "        <tr>\n",
       "            <td>2213</td>\n",
       "            <td>409</td>\n",
       "            <td>2971</td>\n",
       "            <td>0.99</td>\n",
       "            <td>1</td>\n",
       "        </tr>\n",
       "        <tr>\n",
       "            <td>2212</td>\n",
       "            <td>409</td>\n",
       "            <td>2967</td>\n",
       "            <td>0.99</td>\n",
       "            <td>1</td>\n",
       "        </tr>\n",
       "        <tr>\n",
       "            <td>2211</td>\n",
       "            <td>409</td>\n",
       "            <td>2963</td>\n",
       "            <td>0.99</td>\n",
       "            <td>1</td>\n",
       "        </tr>\n",
       "        <tr>\n",
       "            <td>2210</td>\n",
       "            <td>408</td>\n",
       "            <td>2959</td>\n",
       "            <td>0.99</td>\n",
       "            <td>1</td>\n",
       "        </tr>\n",
       "        <tr>\n",
       "            <td>2209</td>\n",
       "            <td>408</td>\n",
       "            <td>2957</td>\n",
       "            <td>0.99</td>\n",
       "            <td>1</td>\n",
       "        </tr>\n",
       "        <tr>\n",
       "            <td>2208</td>\n",
       "            <td>408</td>\n",
       "            <td>2955</td>\n",
       "            <td>0.99</td>\n",
       "            <td>1</td>\n",
       "        </tr>\n",
       "        <tr>\n",
       "            <td>2207</td>\n",
       "            <td>408</td>\n",
       "            <td>2953</td>\n",
       "            <td>0.99</td>\n",
       "            <td>1</td>\n",
       "        </tr>\n",
       "        <tr>\n",
       "            <td>2206</td>\n",
       "            <td>407</td>\n",
       "            <td>2951</td>\n",
       "            <td>0.99</td>\n",
       "            <td>1</td>\n",
       "        </tr>\n",
       "        <tr>\n",
       "            <td>2205</td>\n",
       "            <td>407</td>\n",
       "            <td>2949</td>\n",
       "            <td>0.99</td>\n",
       "            <td>1</td>\n",
       "        </tr>\n",
       "        <tr>\n",
       "            <td>2204</td>\n",
       "            <td>406</td>\n",
       "            <td>2947</td>\n",
       "            <td>0.99</td>\n",
       "            <td>1</td>\n",
       "        </tr>\n",
       "        <tr>\n",
       "            <td>2203</td>\n",
       "            <td>406</td>\n",
       "            <td>2946</td>\n",
       "            <td>0.99</td>\n",
       "            <td>1</td>\n",
       "        </tr>\n",
       "        <tr>\n",
       "            <td>2202</td>\n",
       "            <td>405</td>\n",
       "            <td>2945</td>\n",
       "            <td>0.99</td>\n",
       "            <td>1</td>\n",
       "        </tr>\n",
       "        <tr>\n",
       "            <td>2201</td>\n",
       "            <td>404</td>\n",
       "            <td>2931</td>\n",
       "            <td>0.99</td>\n",
       "            <td>1</td>\n",
       "        </tr>\n",
       "        <tr>\n",
       "            <td>2200</td>\n",
       "            <td>404</td>\n",
       "            <td>2922</td>\n",
       "            <td>1.99</td>\n",
       "            <td>1</td>\n",
       "        </tr>\n",
       "        <tr>\n",
       "            <td>2199</td>\n",
       "            <td>404</td>\n",
       "            <td>2913</td>\n",
       "            <td>1.99</td>\n",
       "            <td>1</td>\n",
       "        </tr>\n",
       "        <tr>\n",
       "            <td>2198</td>\n",
       "            <td>404</td>\n",
       "            <td>2904</td>\n",
       "            <td>1.99</td>\n",
       "            <td>1</td>\n",
       "        </tr>\n",
       "        <tr>\n",
       "            <td>2197</td>\n",
       "            <td>404</td>\n",
       "            <td>2895</td>\n",
       "            <td>1.99</td>\n",
       "            <td>1</td>\n",
       "        </tr>\n",
       "        <tr>\n",
       "            <td>2196</td>\n",
       "            <td>404</td>\n",
       "            <td>2886</td>\n",
       "            <td>1.99</td>\n",
       "            <td>1</td>\n",
       "        </tr>\n",
       "        <tr>\n",
       "            <td>2195</td>\n",
       "            <td>404</td>\n",
       "            <td>2877</td>\n",
       "            <td>1.99</td>\n",
       "            <td>1</td>\n",
       "        </tr>\n",
       "        <tr>\n",
       "            <td>2194</td>\n",
       "            <td>404</td>\n",
       "            <td>2868</td>\n",
       "            <td>1.99</td>\n",
       "            <td>1</td>\n",
       "        </tr>\n",
       "        <tr>\n",
       "            <td>2193</td>\n",
       "            <td>404</td>\n",
       "            <td>2859</td>\n",
       "            <td>1.99</td>\n",
       "            <td>1</td>\n",
       "        </tr>\n",
       "        <tr>\n",
       "            <td>2192</td>\n",
       "            <td>404</td>\n",
       "            <td>2850</td>\n",
       "            <td>1.99</td>\n",
       "            <td>1</td>\n",
       "        </tr>\n",
       "        <tr>\n",
       "            <td>2191</td>\n",
       "            <td>404</td>\n",
       "            <td>2841</td>\n",
       "            <td>1.99</td>\n",
       "            <td>1</td>\n",
       "        </tr>\n",
       "    </tbody>\n",
       "</table>"
      ],
      "text/plain": [
       "[(2240, 412, 3177, 1.99, 1),\n",
       " (2239, 411, 3163, 0.99, 1),\n",
       " (2238, 411, 3154, 0.99, 1),\n",
       " (2237, 411, 3145, 0.99, 1),\n",
       " (2236, 411, 3136, 0.99, 1),\n",
       " (2235, 411, 3127, 0.99, 1),\n",
       " (2234, 411, 3118, 0.99, 1),\n",
       " (2233, 411, 3109, 0.99, 1),\n",
       " (2232, 411, 3100, 0.99, 1),\n",
       " (2231, 411, 3091, 0.99, 1),\n",
       " (2230, 411, 3082, 0.99, 1),\n",
       " (2229, 411, 3073, 0.99, 1),\n",
       " (2228, 411, 3064, 0.99, 1),\n",
       " (2227, 411, 3055, 0.99, 1),\n",
       " (2226, 411, 3046, 0.99, 1),\n",
       " (2225, 410, 3037, 0.99, 1),\n",
       " (2224, 410, 3031, 0.99, 1),\n",
       " (2223, 410, 3025, 0.99, 1),\n",
       " (2222, 410, 3019, 0.99, 1),\n",
       " (2221, 410, 3013, 0.99, 1),\n",
       " (2220, 410, 3007, 0.99, 1),\n",
       " (2219, 410, 3001, 0.99, 1),\n",
       " (2218, 410, 2995, 0.99, 1),\n",
       " (2217, 410, 2989, 0.99, 1),\n",
       " (2216, 409, 2983, 0.99, 1),\n",
       " (2215, 409, 2979, 0.99, 1),\n",
       " (2214, 409, 2975, 0.99, 1),\n",
       " (2213, 409, 2971, 0.99, 1),\n",
       " (2212, 409, 2967, 0.99, 1),\n",
       " (2211, 409, 2963, 0.99, 1),\n",
       " (2210, 408, 2959, 0.99, 1),\n",
       " (2209, 408, 2957, 0.99, 1),\n",
       " (2208, 408, 2955, 0.99, 1),\n",
       " (2207, 408, 2953, 0.99, 1),\n",
       " (2206, 407, 2951, 0.99, 1),\n",
       " (2205, 407, 2949, 0.99, 1),\n",
       " (2204, 406, 2947, 0.99, 1),\n",
       " (2203, 406, 2946, 0.99, 1),\n",
       " (2202, 405, 2945, 0.99, 1),\n",
       " (2201, 404, 2931, 0.99, 1),\n",
       " (2200, 404, 2922, 1.99, 1),\n",
       " (2199, 404, 2913, 1.99, 1),\n",
       " (2198, 404, 2904, 1.99, 1),\n",
       " (2197, 404, 2895, 1.99, 1),\n",
       " (2196, 404, 2886, 1.99, 1),\n",
       " (2195, 404, 2877, 1.99, 1),\n",
       " (2194, 404, 2868, 1.99, 1),\n",
       " (2193, 404, 2859, 1.99, 1),\n",
       " (2192, 404, 2850, 1.99, 1),\n",
       " (2191, 404, 2841, 1.99, 1)]"
      ]
     },
     "execution_count": 33,
     "metadata": {},
     "output_type": "execute_result"
    }
   ],
   "source": [
    "%%sql\n",
    "SELECT * FROM InvoiceLine ORDER BY InvoiceLineId DESC LIMIT 50 ;"
   ]
  },
  {
   "cell_type": "code",
   "execution_count": 34,
   "id": "184f402b",
   "metadata": {},
   "outputs": [
    {
     "name": "stdout",
     "output_type": "stream",
     "text": [
      " * sqlite:///Chinook_Sqlite.sqlite\n",
      "Done.\n"
     ]
    },
    {
     "data": {
      "text/html": [
       "<table>\n",
       "    <thead>\n",
       "        <tr>\n",
       "            <th>InvoiceLineId</th>\n",
       "            <th>InvoiceId</th>\n",
       "            <th>TrackId</th>\n",
       "            <th>UnitPrice</th>\n",
       "            <th>Quantity</th>\n",
       "            <th>TOTAL_COST_WITH_VAT</th>\n",
       "        </tr>\n",
       "    </thead>\n",
       "    <tbody>\n",
       "        <tr>\n",
       "            <td>2240</td>\n",
       "            <td>412</td>\n",
       "            <td>3177</td>\n",
       "            <td>1.99</td>\n",
       "            <td>1</td>\n",
       "            <td>2.99</td>\n",
       "        </tr>\n",
       "        <tr>\n",
       "            <td>2239</td>\n",
       "            <td>411</td>\n",
       "            <td>3163</td>\n",
       "            <td>0.99</td>\n",
       "            <td>1</td>\n",
       "            <td>1.49</td>\n",
       "        </tr>\n",
       "        <tr>\n",
       "            <td>2238</td>\n",
       "            <td>411</td>\n",
       "            <td>3154</td>\n",
       "            <td>0.99</td>\n",
       "            <td>1</td>\n",
       "            <td>1.49</td>\n",
       "        </tr>\n",
       "        <tr>\n",
       "            <td>2237</td>\n",
       "            <td>411</td>\n",
       "            <td>3145</td>\n",
       "            <td>0.99</td>\n",
       "            <td>1</td>\n",
       "            <td>1.49</td>\n",
       "        </tr>\n",
       "        <tr>\n",
       "            <td>2236</td>\n",
       "            <td>411</td>\n",
       "            <td>3136</td>\n",
       "            <td>0.99</td>\n",
       "            <td>1</td>\n",
       "            <td>1.49</td>\n",
       "        </tr>\n",
       "        <tr>\n",
       "            <td>2235</td>\n",
       "            <td>411</td>\n",
       "            <td>3127</td>\n",
       "            <td>0.99</td>\n",
       "            <td>1</td>\n",
       "            <td>1.49</td>\n",
       "        </tr>\n",
       "        <tr>\n",
       "            <td>2234</td>\n",
       "            <td>411</td>\n",
       "            <td>3118</td>\n",
       "            <td>0.99</td>\n",
       "            <td>1</td>\n",
       "            <td>1.49</td>\n",
       "        </tr>\n",
       "        <tr>\n",
       "            <td>2233</td>\n",
       "            <td>411</td>\n",
       "            <td>3109</td>\n",
       "            <td>0.99</td>\n",
       "            <td>1</td>\n",
       "            <td>1.49</td>\n",
       "        </tr>\n",
       "        <tr>\n",
       "            <td>2232</td>\n",
       "            <td>411</td>\n",
       "            <td>3100</td>\n",
       "            <td>0.99</td>\n",
       "            <td>1</td>\n",
       "            <td>1.49</td>\n",
       "        </tr>\n",
       "        <tr>\n",
       "            <td>2231</td>\n",
       "            <td>411</td>\n",
       "            <td>3091</td>\n",
       "            <td>0.99</td>\n",
       "            <td>1</td>\n",
       "            <td>1.49</td>\n",
       "        </tr>\n",
       "    </tbody>\n",
       "</table>"
      ],
      "text/plain": [
       "[(2240, 412, 3177, 1.99, 1, 2.99),\n",
       " (2239, 411, 3163, 0.99, 1, 1.49),\n",
       " (2238, 411, 3154, 0.99, 1, 1.49),\n",
       " (2237, 411, 3145, 0.99, 1, 1.49),\n",
       " (2236, 411, 3136, 0.99, 1, 1.49),\n",
       " (2235, 411, 3127, 0.99, 1, 1.49),\n",
       " (2234, 411, 3118, 0.99, 1, 1.49),\n",
       " (2233, 411, 3109, 0.99, 1, 1.49),\n",
       " (2232, 411, 3100, 0.99, 1, 1.49),\n",
       " (2231, 411, 3091, 0.99, 1, 1.49)]"
      ]
     },
     "execution_count": 34,
     "metadata": {},
     "output_type": "execute_result"
    }
   ],
   "source": [
    "%%sql\n",
    "SELECT InvoiceLineId,InvoiceId,TrackId,UnitPrice,Quantity,round((UnitPrice*Quantity)*1.5,2) AS TOTAL_COST_WITH_VAT FROM InvoiceLine ORDER BY InvoiceLineId DESC LIMIT 10 ;"
   ]
  },
  {
   "cell_type": "code",
   "execution_count": 35,
   "id": "3cb90dea",
   "metadata": {},
   "outputs": [
    {
     "name": "stdout",
     "output_type": "stream",
     "text": [
      " * sqlite:///Chinook_Sqlite.sqlite\n",
      "Done.\n"
     ]
    },
    {
     "data": {
      "text/html": [
       "<table>\n",
       "    <thead>\n",
       "        <tr>\n",
       "            <th>AVG_COST_WITH_VAT</th>\n",
       "        </tr>\n",
       "    </thead>\n",
       "    <tbody>\n",
       "        <tr>\n",
       "            <td>1.5643303571427714</td>\n",
       "        </tr>\n",
       "    </tbody>\n",
       "</table>"
      ],
      "text/plain": [
       "[(1.5643303571427714,)]"
      ]
     },
     "execution_count": 35,
     "metadata": {},
     "output_type": "execute_result"
    }
   ],
   "source": [
    "%%sql\n",
    "SELECT AVG(round((UnitPrice*Quantity)*1.5,2)) AS AVG_COST_WITH_VAT FROM InvoiceLine ;"
   ]
  },
  {
   "cell_type": "code",
   "execution_count": 36,
   "id": "5d87e89c",
   "metadata": {},
   "outputs": [
    {
     "name": "stdout",
     "output_type": "stream",
     "text": [
      " * sqlite:///Chinook_Sqlite.sqlite\n",
      "Done.\n"
     ]
    },
    {
     "data": {
      "text/html": [
       "<table>\n",
       "    <thead>\n",
       "        <tr>\n",
       "            <th>Average_unit_price</th>\n",
       "        </tr>\n",
       "    </thead>\n",
       "    <tbody>\n",
       "        <tr>\n",
       "            <td>1.0395535714285522</td>\n",
       "        </tr>\n",
       "    </tbody>\n",
       "</table>"
      ],
      "text/plain": [
       "[(1.0395535714285522,)]"
      ]
     },
     "execution_count": 36,
     "metadata": {},
     "output_type": "execute_result"
    }
   ],
   "source": [
    "%%sql\n",
    "SELECT AVG(UnitPrice) AS Average_unit_price FROM InvoiceLine ;"
   ]
  },
  {
   "cell_type": "code",
   "execution_count": 37,
   "id": "37aee019",
   "metadata": {},
   "outputs": [
    {
     "name": "stdout",
     "output_type": "stream",
     "text": [
      " * sqlite:///Chinook_Sqlite.sqlite\n",
      "Done.\n"
     ]
    },
    {
     "data": {
      "text/html": [
       "<table>\n",
       "    <thead>\n",
       "        <tr>\n",
       "            <th>TOTAL_ROW</th>\n",
       "        </tr>\n",
       "    </thead>\n",
       "    <tbody>\n",
       "        <tr>\n",
       "            <td>347</td>\n",
       "        </tr>\n",
       "    </tbody>\n",
       "</table>"
      ],
      "text/plain": [
       "[(347,)]"
      ]
     },
     "execution_count": 37,
     "metadata": {},
     "output_type": "execute_result"
    }
   ],
   "source": [
    "%%sql\n",
    "SELECT COUNT(*) AS TOTAL_ROW FROM ALbum "
   ]
  },
  {
   "cell_type": "code",
   "execution_count": 38,
   "id": "8ae00fa7",
   "metadata": {},
   "outputs": [
    {
     "name": "stdout",
     "output_type": "stream",
     "text": [
      " * sqlite:///Chinook_Sqlite.sqlite\n",
      "Done.\n"
     ]
    },
    {
     "data": {
      "text/html": [
       "<table>\n",
       "    <thead>\n",
       "        <tr>\n",
       "            <th>TOTAL_CUSTOMER</th>\n",
       "        </tr>\n",
       "    </thead>\n",
       "    <tbody>\n",
       "        <tr>\n",
       "            <td>59</td>\n",
       "        </tr>\n",
       "    </tbody>\n",
       "</table>"
      ],
      "text/plain": [
       "[(59,)]"
      ]
     },
     "execution_count": 38,
     "metadata": {},
     "output_type": "execute_result"
    }
   ],
   "source": [
    "%%sql\n",
    "SELECT COUNT(*) AS TOTAL_CUSTOMER FROM Customer;"
   ]
  },
  {
   "cell_type": "code",
   "execution_count": 39,
   "id": "b4211ed8",
   "metadata": {},
   "outputs": [
    {
     "name": "stdout",
     "output_type": "stream",
     "text": [
      " * sqlite:///Chinook_Sqlite.sqlite\n",
      "Done.\n"
     ]
    },
    {
     "data": {
      "text/html": [
       "<table>\n",
       "    <thead>\n",
       "        <tr>\n",
       "            <th>minimum_unit_price</th>\n",
       "        </tr>\n",
       "    </thead>\n",
       "    <tbody>\n",
       "        <tr>\n",
       "            <td>0.99</td>\n",
       "        </tr>\n",
       "    </tbody>\n",
       "</table>"
      ],
      "text/plain": [
       "[(0.99,)]"
      ]
     },
     "execution_count": 39,
     "metadata": {},
     "output_type": "execute_result"
    }
   ],
   "source": [
    "%%sql\n",
    "SELECT MIN(UnitPrice) AS minimum_unit_price FROM InvoiceLine ;"
   ]
  },
  {
   "cell_type": "code",
   "execution_count": 40,
   "id": "327ef65d",
   "metadata": {},
   "outputs": [
    {
     "name": "stdout",
     "output_type": "stream",
     "text": [
      " * sqlite:///Chinook_Sqlite.sqlite\n",
      "Done.\n"
     ]
    },
    {
     "data": {
      "text/html": [
       "<table>\n",
       "    <thead>\n",
       "        <tr>\n",
       "            <th>maximum_unit_price</th>\n",
       "        </tr>\n",
       "    </thead>\n",
       "    <tbody>\n",
       "        <tr>\n",
       "            <td>1.99</td>\n",
       "        </tr>\n",
       "    </tbody>\n",
       "</table>"
      ],
      "text/plain": [
       "[(1.99,)]"
      ]
     },
     "execution_count": 40,
     "metadata": {},
     "output_type": "execute_result"
    }
   ],
   "source": [
    "%%sql\n",
    "SELECT MAX(UnitPrice) AS maximum_unit_price FROM InvoiceLine ;"
   ]
  },
  {
   "cell_type": "code",
   "execution_count": 41,
   "id": "f7dca3e3",
   "metadata": {},
   "outputs": [
    {
     "name": "stdout",
     "output_type": "stream",
     "text": [
      " * sqlite:///Chinook_Sqlite.sqlite\n",
      "Done.\n"
     ]
    },
    {
     "data": {
      "text/html": [
       "<table>\n",
       "    <thead>\n",
       "        <tr>\n",
       "            <th>total_99_unit_price</th>\n",
       "        </tr>\n",
       "    </thead>\n",
       "    <tbody>\n",
       "        <tr>\n",
       "            <td>2107.710000000004</td>\n",
       "        </tr>\n",
       "    </tbody>\n",
       "</table>"
      ],
      "text/plain": [
       "[(2107.710000000004,)]"
      ]
     },
     "execution_count": 41,
     "metadata": {},
     "output_type": "execute_result"
    }
   ],
   "source": [
    "%%sql\n",
    "SELECT SUM(UnitPrice) AS total_99_unit_price FROM InvoiceLine WHERE UnitPrice=0.99 ;"
   ]
  },
  {
   "cell_type": "code",
   "execution_count": 42,
   "id": "34f3dce0",
   "metadata": {},
   "outputs": [
    {
     "name": "stdout",
     "output_type": "stream",
     "text": [
      " * sqlite:///Chinook_Sqlite.sqlite\n",
      "Done.\n"
     ]
    },
    {
     "data": {
      "text/html": [
       "<table>\n",
       "    <thead>\n",
       "        <tr>\n",
       "            <th>total_1_99_unit_price</th>\n",
       "        </tr>\n",
       "    </thead>\n",
       "    <tbody>\n",
       "        <tr>\n",
       "            <td>220.89000000000027</td>\n",
       "        </tr>\n",
       "    </tbody>\n",
       "</table>"
      ],
      "text/plain": [
       "[(220.89000000000027,)]"
      ]
     },
     "execution_count": 42,
     "metadata": {},
     "output_type": "execute_result"
    }
   ],
   "source": [
    "%%sql\n",
    "SELECT SUM(UnitPrice) AS total_1_99_unit_price FROM InvoiceLine WHERE UnitPrice=1.99 ;"
   ]
  },
  {
   "cell_type": "code",
   "execution_count": 43,
   "id": "908f034c",
   "metadata": {},
   "outputs": [
    {
     "name": "stdout",
     "output_type": "stream",
     "text": [
      " * sqlite:///Chinook_Sqlite.sqlite\n",
      "Done.\n"
     ]
    },
    {
     "data": {
      "text/html": [
       "<table>\n",
       "    <thead>\n",
       "        <tr>\n",
       "            <th>total_99_unit_price</th>\n",
       "        </tr>\n",
       "    </thead>\n",
       "    <tbody>\n",
       "        <tr>\n",
       "            <td>2129</td>\n",
       "        </tr>\n",
       "    </tbody>\n",
       "</table>"
      ],
      "text/plain": [
       "[(2129,)]"
      ]
     },
     "execution_count": 43,
     "metadata": {},
     "output_type": "execute_result"
    }
   ],
   "source": [
    "%%sql\n",
    "SELECT COUNT(UnitPrice) AS total_99_unit_price FROM InvoiceLine WHERE UnitPrice=0.99 ;"
   ]
  },
  {
   "cell_type": "code",
   "execution_count": 44,
   "id": "a0fbb323",
   "metadata": {},
   "outputs": [
    {
     "name": "stdout",
     "output_type": "stream",
     "text": [
      " * sqlite:///Chinook_Sqlite.sqlite\n",
      "Done.\n"
     ]
    },
    {
     "data": {
      "text/html": [
       "<table>\n",
       "    <thead>\n",
       "        <tr>\n",
       "            <th>total_99_unit_price</th>\n",
       "        </tr>\n",
       "    </thead>\n",
       "    <tbody>\n",
       "        <tr>\n",
       "            <td>111</td>\n",
       "        </tr>\n",
       "    </tbody>\n",
       "</table>"
      ],
      "text/plain": [
       "[(111,)]"
      ]
     },
     "execution_count": 44,
     "metadata": {},
     "output_type": "execute_result"
    }
   ],
   "source": [
    "%%sql\n",
    "SELECT COUNT(UnitPrice) AS total_99_unit_price FROM InvoiceLine WHERE UnitPrice=1.99 ;"
   ]
  },
  {
   "cell_type": "markdown",
   "id": "c63dcd83",
   "metadata": {},
   "source": [
    "CAN NOT USE DISTINCT() on COUNT(*)"
   ]
  },
  {
   "cell_type": "code",
   "execution_count": 45,
   "id": "2598203a",
   "metadata": {},
   "outputs": [
    {
     "name": "stdout",
     "output_type": "stream",
     "text": [
      " * sqlite:///Chinook_Sqlite.sqlite\n",
      "Done.\n"
     ]
    },
    {
     "data": {
      "text/html": [
       "<table>\n",
       "    <thead>\n",
       "        <tr>\n",
       "            <th>total_customer_listed</th>\n",
       "        </tr>\n",
       "    </thead>\n",
       "    <tbody>\n",
       "        <tr>\n",
       "            <td>412</td>\n",
       "        </tr>\n",
       "    </tbody>\n",
       "</table>"
      ],
      "text/plain": [
       "[(412,)]"
      ]
     },
     "execution_count": 45,
     "metadata": {},
     "output_type": "execute_result"
    }
   ],
   "source": [
    "%%sql\n",
    "SELECT COUNT(*) AS total_customer_listed FROM Invoice ;"
   ]
  },
  {
   "cell_type": "code",
   "execution_count": 46,
   "id": "d4aa0795",
   "metadata": {},
   "outputs": [
    {
     "name": "stdout",
     "output_type": "stream",
     "text": [
      " * sqlite:///Chinook_Sqlite.sqlite\n",
      "Done.\n"
     ]
    },
    {
     "data": {
      "text/html": [
       "<table>\n",
       "    <thead>\n",
       "        <tr>\n",
       "            <th>InvoiceId</th>\n",
       "            <th>CustomerId</th>\n",
       "            <th>InvoiceDate</th>\n",
       "            <th>BillingAddress</th>\n",
       "            <th>BillingCity</th>\n",
       "            <th>BillingState</th>\n",
       "            <th>BillingCountry</th>\n",
       "            <th>BillingPostalCode</th>\n",
       "            <th>Total</th>\n",
       "        </tr>\n",
       "    </thead>\n",
       "    <tbody>\n",
       "        <tr>\n",
       "            <td>1</td>\n",
       "            <td>2</td>\n",
       "            <td>2009-01-01 00:00:00</td>\n",
       "            <td>Theodor-Heuss-Straße 34</td>\n",
       "            <td>Stuttgart</td>\n",
       "            <td>None</td>\n",
       "            <td>Germany</td>\n",
       "            <td>70174</td>\n",
       "            <td>1.98</td>\n",
       "        </tr>\n",
       "        <tr>\n",
       "            <td>2</td>\n",
       "            <td>4</td>\n",
       "            <td>2009-01-02 00:00:00</td>\n",
       "            <td>Ullevålsveien 14</td>\n",
       "            <td>Oslo</td>\n",
       "            <td>None</td>\n",
       "            <td>Norway</td>\n",
       "            <td>0171</td>\n",
       "            <td>3.96</td>\n",
       "        </tr>\n",
       "        <tr>\n",
       "            <td>3</td>\n",
       "            <td>8</td>\n",
       "            <td>2009-01-03 00:00:00</td>\n",
       "            <td>Grétrystraat 63</td>\n",
       "            <td>Brussels</td>\n",
       "            <td>None</td>\n",
       "            <td>Belgium</td>\n",
       "            <td>1000</td>\n",
       "            <td>5.94</td>\n",
       "        </tr>\n",
       "        <tr>\n",
       "            <td>4</td>\n",
       "            <td>14</td>\n",
       "            <td>2009-01-06 00:00:00</td>\n",
       "            <td>8210 111 ST NW</td>\n",
       "            <td>Edmonton</td>\n",
       "            <td>AB</td>\n",
       "            <td>Canada</td>\n",
       "            <td>T6G 2C7</td>\n",
       "            <td>8.91</td>\n",
       "        </tr>\n",
       "        <tr>\n",
       "            <td>5</td>\n",
       "            <td>23</td>\n",
       "            <td>2009-01-11 00:00:00</td>\n",
       "            <td>69 Salem Street</td>\n",
       "            <td>Boston</td>\n",
       "            <td>MA</td>\n",
       "            <td>USA</td>\n",
       "            <td>2113</td>\n",
       "            <td>13.86</td>\n",
       "        </tr>\n",
       "        <tr>\n",
       "            <td>6</td>\n",
       "            <td>37</td>\n",
       "            <td>2009-01-19 00:00:00</td>\n",
       "            <td>Berger Straße 10</td>\n",
       "            <td>Frankfurt</td>\n",
       "            <td>None</td>\n",
       "            <td>Germany</td>\n",
       "            <td>60316</td>\n",
       "            <td>0.99</td>\n",
       "        </tr>\n",
       "        <tr>\n",
       "            <td>7</td>\n",
       "            <td>38</td>\n",
       "            <td>2009-02-01 00:00:00</td>\n",
       "            <td>Barbarossastraße 19</td>\n",
       "            <td>Berlin</td>\n",
       "            <td>None</td>\n",
       "            <td>Germany</td>\n",
       "            <td>10779</td>\n",
       "            <td>1.98</td>\n",
       "        </tr>\n",
       "        <tr>\n",
       "            <td>8</td>\n",
       "            <td>40</td>\n",
       "            <td>2009-02-01 00:00:00</td>\n",
       "            <td>8, Rue Hanovre</td>\n",
       "            <td>Paris</td>\n",
       "            <td>None</td>\n",
       "            <td>France</td>\n",
       "            <td>75002</td>\n",
       "            <td>1.98</td>\n",
       "        </tr>\n",
       "        <tr>\n",
       "            <td>9</td>\n",
       "            <td>42</td>\n",
       "            <td>2009-02-02 00:00:00</td>\n",
       "            <td>9, Place Louis Barthou</td>\n",
       "            <td>Bordeaux</td>\n",
       "            <td>None</td>\n",
       "            <td>France</td>\n",
       "            <td>33000</td>\n",
       "            <td>3.96</td>\n",
       "        </tr>\n",
       "        <tr>\n",
       "            <td>10</td>\n",
       "            <td>46</td>\n",
       "            <td>2009-02-03 00:00:00</td>\n",
       "            <td>3 Chatham Street</td>\n",
       "            <td>Dublin</td>\n",
       "            <td>Dublin</td>\n",
       "            <td>Ireland</td>\n",
       "            <td>None</td>\n",
       "            <td>5.94</td>\n",
       "        </tr>\n",
       "    </tbody>\n",
       "</table>"
      ],
      "text/plain": [
       "[(1, 2, '2009-01-01 00:00:00', 'Theodor-Heuss-Straße 34', 'Stuttgart', None, 'Germany', '70174', 1.98),\n",
       " (2, 4, '2009-01-02 00:00:00', 'Ullevålsveien 14', 'Oslo', None, 'Norway', '0171', 3.96),\n",
       " (3, 8, '2009-01-03 00:00:00', 'Grétrystraat 63', 'Brussels', None, 'Belgium', '1000', 5.94),\n",
       " (4, 14, '2009-01-06 00:00:00', '8210 111 ST NW', 'Edmonton', 'AB', 'Canada', 'T6G 2C7', 8.91),\n",
       " (5, 23, '2009-01-11 00:00:00', '69 Salem Street', 'Boston', 'MA', 'USA', '2113', 13.86),\n",
       " (6, 37, '2009-01-19 00:00:00', 'Berger Straße 10', 'Frankfurt', None, 'Germany', '60316', 0.99),\n",
       " (7, 38, '2009-02-01 00:00:00', 'Barbarossastraße 19', 'Berlin', None, 'Germany', '10779', 1.98),\n",
       " (8, 40, '2009-02-01 00:00:00', '8, Rue Hanovre', 'Paris', None, 'France', '75002', 1.98),\n",
       " (9, 42, '2009-02-02 00:00:00', '9, Place Louis Barthou', 'Bordeaux', None, 'France', '33000', 3.96),\n",
       " (10, 46, '2009-02-03 00:00:00', '3 Chatham Street', 'Dublin', 'Dublin', 'Ireland', None, 5.94)]"
      ]
     },
     "execution_count": 46,
     "metadata": {},
     "output_type": "execute_result"
    }
   ],
   "source": [
    "%%sql\n",
    "SELECT * FROM Invoice LIMIT 10;"
   ]
  },
  {
   "cell_type": "markdown",
   "id": "0283ebb4",
   "metadata": {},
   "source": [
    "groupby column always work with the aggragate function it ans the question\n",
    "BASED ON WHAT ARE YOU AGGRARATING?"
   ]
  },
  {
   "cell_type": "code",
   "execution_count": 49,
   "id": "45fc5cd0",
   "metadata": {},
   "outputs": [
    {
     "name": "stdout",
     "output_type": "stream",
     "text": [
      " * sqlite:///Chinook_Sqlite.sqlite\n",
      "Done.\n"
     ]
    },
    {
     "data": {
      "text/html": [
       "<table>\n",
       "    <thead>\n",
       "        <tr>\n",
       "            <th>InvoiceId</th>\n",
       "            <th>CustomerId</th>\n",
       "            <th>InvoiceDate</th>\n",
       "            <th>BillingAddress</th>\n",
       "            <th>BillingCity</th>\n",
       "            <th>BillingState</th>\n",
       "            <th>BillingCountry</th>\n",
       "            <th>BillingPostalCode</th>\n",
       "            <th>Total</th>\n",
       "        </tr>\n",
       "    </thead>\n",
       "    <tbody>\n",
       "        <tr>\n",
       "            <td>1</td>\n",
       "            <td>2</td>\n",
       "            <td>2009-01-01 00:00:00</td>\n",
       "            <td>Theodor-Heuss-Straße 34</td>\n",
       "            <td>Stuttgart</td>\n",
       "            <td>None</td>\n",
       "            <td>Germany</td>\n",
       "            <td>70174</td>\n",
       "            <td>1.98</td>\n",
       "        </tr>\n",
       "        <tr>\n",
       "            <td>2</td>\n",
       "            <td>4</td>\n",
       "            <td>2009-01-02 00:00:00</td>\n",
       "            <td>Ullevålsveien 14</td>\n",
       "            <td>Oslo</td>\n",
       "            <td>None</td>\n",
       "            <td>Norway</td>\n",
       "            <td>0171</td>\n",
       "            <td>3.96</td>\n",
       "        </tr>\n",
       "        <tr>\n",
       "            <td>3</td>\n",
       "            <td>8</td>\n",
       "            <td>2009-01-03 00:00:00</td>\n",
       "            <td>Grétrystraat 63</td>\n",
       "            <td>Brussels</td>\n",
       "            <td>None</td>\n",
       "            <td>Belgium</td>\n",
       "            <td>1000</td>\n",
       "            <td>5.94</td>\n",
       "        </tr>\n",
       "        <tr>\n",
       "            <td>4</td>\n",
       "            <td>14</td>\n",
       "            <td>2009-01-06 00:00:00</td>\n",
       "            <td>8210 111 ST NW</td>\n",
       "            <td>Edmonton</td>\n",
       "            <td>AB</td>\n",
       "            <td>Canada</td>\n",
       "            <td>T6G 2C7</td>\n",
       "            <td>8.91</td>\n",
       "        </tr>\n",
       "        <tr>\n",
       "            <td>5</td>\n",
       "            <td>23</td>\n",
       "            <td>2009-01-11 00:00:00</td>\n",
       "            <td>69 Salem Street</td>\n",
       "            <td>Boston</td>\n",
       "            <td>MA</td>\n",
       "            <td>USA</td>\n",
       "            <td>2113</td>\n",
       "            <td>13.86</td>\n",
       "        </tr>\n",
       "        <tr>\n",
       "            <td>6</td>\n",
       "            <td>37</td>\n",
       "            <td>2009-01-19 00:00:00</td>\n",
       "            <td>Berger Straße 10</td>\n",
       "            <td>Frankfurt</td>\n",
       "            <td>None</td>\n",
       "            <td>Germany</td>\n",
       "            <td>60316</td>\n",
       "            <td>0.99</td>\n",
       "        </tr>\n",
       "        <tr>\n",
       "            <td>7</td>\n",
       "            <td>38</td>\n",
       "            <td>2009-02-01 00:00:00</td>\n",
       "            <td>Barbarossastraße 19</td>\n",
       "            <td>Berlin</td>\n",
       "            <td>None</td>\n",
       "            <td>Germany</td>\n",
       "            <td>10779</td>\n",
       "            <td>1.98</td>\n",
       "        </tr>\n",
       "        <tr>\n",
       "            <td>8</td>\n",
       "            <td>40</td>\n",
       "            <td>2009-02-01 00:00:00</td>\n",
       "            <td>8, Rue Hanovre</td>\n",
       "            <td>Paris</td>\n",
       "            <td>None</td>\n",
       "            <td>France</td>\n",
       "            <td>75002</td>\n",
       "            <td>1.98</td>\n",
       "        </tr>\n",
       "        <tr>\n",
       "            <td>9</td>\n",
       "            <td>42</td>\n",
       "            <td>2009-02-02 00:00:00</td>\n",
       "            <td>9, Place Louis Barthou</td>\n",
       "            <td>Bordeaux</td>\n",
       "            <td>None</td>\n",
       "            <td>France</td>\n",
       "            <td>33000</td>\n",
       "            <td>3.96</td>\n",
       "        </tr>\n",
       "        <tr>\n",
       "            <td>10</td>\n",
       "            <td>46</td>\n",
       "            <td>2009-02-03 00:00:00</td>\n",
       "            <td>3 Chatham Street</td>\n",
       "            <td>Dublin</td>\n",
       "            <td>Dublin</td>\n",
       "            <td>Ireland</td>\n",
       "            <td>None</td>\n",
       "            <td>5.94</td>\n",
       "        </tr>\n",
       "    </tbody>\n",
       "</table>"
      ],
      "text/plain": [
       "[(1, 2, '2009-01-01 00:00:00', 'Theodor-Heuss-Straße 34', 'Stuttgart', None, 'Germany', '70174', 1.98),\n",
       " (2, 4, '2009-01-02 00:00:00', 'Ullevålsveien 14', 'Oslo', None, 'Norway', '0171', 3.96),\n",
       " (3, 8, '2009-01-03 00:00:00', 'Grétrystraat 63', 'Brussels', None, 'Belgium', '1000', 5.94),\n",
       " (4, 14, '2009-01-06 00:00:00', '8210 111 ST NW', 'Edmonton', 'AB', 'Canada', 'T6G 2C7', 8.91),\n",
       " (5, 23, '2009-01-11 00:00:00', '69 Salem Street', 'Boston', 'MA', 'USA', '2113', 13.86),\n",
       " (6, 37, '2009-01-19 00:00:00', 'Berger Straße 10', 'Frankfurt', None, 'Germany', '60316', 0.99),\n",
       " (7, 38, '2009-02-01 00:00:00', 'Barbarossastraße 19', 'Berlin', None, 'Germany', '10779', 1.98),\n",
       " (8, 40, '2009-02-01 00:00:00', '8, Rue Hanovre', 'Paris', None, 'France', '75002', 1.98),\n",
       " (9, 42, '2009-02-02 00:00:00', '9, Place Louis Barthou', 'Bordeaux', None, 'France', '33000', 3.96),\n",
       " (10, 46, '2009-02-03 00:00:00', '3 Chatham Street', 'Dublin', 'Dublin', 'Ireland', None, 5.94)]"
      ]
     },
     "execution_count": 49,
     "metadata": {},
     "output_type": "execute_result"
    }
   ],
   "source": [
    "%%sql\n",
    "SELECT * FROM Invoice LIMIT 10;"
   ]
  },
  {
   "cell_type": "code",
   "execution_count": 59,
   "id": "71d5a0dc",
   "metadata": {},
   "outputs": [
    {
     "name": "stdout",
     "output_type": "stream",
     "text": [
      " * sqlite:///Chinook_Sqlite.sqlite\n",
      "Done.\n"
     ]
    },
    {
     "data": {
      "text/html": [
       "<table>\n",
       "    <thead>\n",
       "        <tr>\n",
       "            <th>BillingCountry</th>\n",
       "            <th>TOTAL_CUSTOMER</th>\n",
       "        </tr>\n",
       "    </thead>\n",
       "    <tbody>\n",
       "        <tr>\n",
       "            <td>Argentina</td>\n",
       "            <td>7</td>\n",
       "        </tr>\n",
       "        <tr>\n",
       "            <td>Australia</td>\n",
       "            <td>7</td>\n",
       "        </tr>\n",
       "        <tr>\n",
       "            <td>Austria</td>\n",
       "            <td>7</td>\n",
       "        </tr>\n",
       "        <tr>\n",
       "            <td>Belgium</td>\n",
       "            <td>7</td>\n",
       "        </tr>\n",
       "        <tr>\n",
       "            <td>Brazil</td>\n",
       "            <td>35</td>\n",
       "        </tr>\n",
       "        <tr>\n",
       "            <td>Canada</td>\n",
       "            <td>56</td>\n",
       "        </tr>\n",
       "        <tr>\n",
       "            <td>Chile</td>\n",
       "            <td>7</td>\n",
       "        </tr>\n",
       "        <tr>\n",
       "            <td>Czech Republic</td>\n",
       "            <td>14</td>\n",
       "        </tr>\n",
       "        <tr>\n",
       "            <td>Denmark</td>\n",
       "            <td>7</td>\n",
       "        </tr>\n",
       "        <tr>\n",
       "            <td>Finland</td>\n",
       "            <td>7</td>\n",
       "        </tr>\n",
       "        <tr>\n",
       "            <td>France</td>\n",
       "            <td>35</td>\n",
       "        </tr>\n",
       "        <tr>\n",
       "            <td>Germany</td>\n",
       "            <td>28</td>\n",
       "        </tr>\n",
       "        <tr>\n",
       "            <td>Hungary</td>\n",
       "            <td>7</td>\n",
       "        </tr>\n",
       "        <tr>\n",
       "            <td>India</td>\n",
       "            <td>13</td>\n",
       "        </tr>\n",
       "        <tr>\n",
       "            <td>Ireland</td>\n",
       "            <td>7</td>\n",
       "        </tr>\n",
       "        <tr>\n",
       "            <td>Italy</td>\n",
       "            <td>7</td>\n",
       "        </tr>\n",
       "        <tr>\n",
       "            <td>Netherlands</td>\n",
       "            <td>7</td>\n",
       "        </tr>\n",
       "        <tr>\n",
       "            <td>Norway</td>\n",
       "            <td>7</td>\n",
       "        </tr>\n",
       "        <tr>\n",
       "            <td>Poland</td>\n",
       "            <td>7</td>\n",
       "        </tr>\n",
       "        <tr>\n",
       "            <td>Portugal</td>\n",
       "            <td>14</td>\n",
       "        </tr>\n",
       "        <tr>\n",
       "            <td>Spain</td>\n",
       "            <td>7</td>\n",
       "        </tr>\n",
       "        <tr>\n",
       "            <td>Sweden</td>\n",
       "            <td>7</td>\n",
       "        </tr>\n",
       "        <tr>\n",
       "            <td>USA</td>\n",
       "            <td>91</td>\n",
       "        </tr>\n",
       "        <tr>\n",
       "            <td>United Kingdom</td>\n",
       "            <td>21</td>\n",
       "        </tr>\n",
       "    </tbody>\n",
       "</table>"
      ],
      "text/plain": [
       "[('Argentina', 7),\n",
       " ('Australia', 7),\n",
       " ('Austria', 7),\n",
       " ('Belgium', 7),\n",
       " ('Brazil', 35),\n",
       " ('Canada', 56),\n",
       " ('Chile', 7),\n",
       " ('Czech Republic', 14),\n",
       " ('Denmark', 7),\n",
       " ('Finland', 7),\n",
       " ('France', 35),\n",
       " ('Germany', 28),\n",
       " ('Hungary', 7),\n",
       " ('India', 13),\n",
       " ('Ireland', 7),\n",
       " ('Italy', 7),\n",
       " ('Netherlands', 7),\n",
       " ('Norway', 7),\n",
       " ('Poland', 7),\n",
       " ('Portugal', 14),\n",
       " ('Spain', 7),\n",
       " ('Sweden', 7),\n",
       " ('USA', 91),\n",
       " ('United Kingdom', 21)]"
      ]
     },
     "execution_count": 59,
     "metadata": {},
     "output_type": "execute_result"
    }
   ],
   "source": [
    "%%sql\n",
    "SELECT BillingCountry,COUNT(CustomerId) AS TOTAL_CUSTOMER FROM Invoice GROUP BY BillingCountry;"
   ]
  },
  {
   "cell_type": "code",
   "execution_count": 58,
   "id": "fb0c8277",
   "metadata": {},
   "outputs": [
    {
     "name": "stdout",
     "output_type": "stream",
     "text": [
      " * sqlite:///Chinook_Sqlite.sqlite\n",
      "Done.\n"
     ]
    },
    {
     "data": {
      "text/html": [
       "<table>\n",
       "    <thead>\n",
       "        <tr>\n",
       "            <th>InvoiceId</th>\n",
       "            <th>CustomerId</th>\n",
       "            <th>InvoiceDate</th>\n",
       "            <th>BillingAddress</th>\n",
       "            <th>BillingCity</th>\n",
       "            <th>BillingState</th>\n",
       "            <th>BillingCountry</th>\n",
       "            <th>BillingPostalCode</th>\n",
       "            <th>Total</th>\n",
       "        </tr>\n",
       "    </thead>\n",
       "    <tbody>\n",
       "        <tr>\n",
       "            <td>1</td>\n",
       "            <td>2</td>\n",
       "            <td>2009-01-01 00:00:00</td>\n",
       "            <td>Theodor-Heuss-Straße 34</td>\n",
       "            <td>Stuttgart</td>\n",
       "            <td>None</td>\n",
       "            <td>Germany</td>\n",
       "            <td>70174</td>\n",
       "            <td>1.98</td>\n",
       "        </tr>\n",
       "        <tr>\n",
       "            <td>2</td>\n",
       "            <td>4</td>\n",
       "            <td>2009-01-02 00:00:00</td>\n",
       "            <td>Ullevålsveien 14</td>\n",
       "            <td>Oslo</td>\n",
       "            <td>None</td>\n",
       "            <td>Norway</td>\n",
       "            <td>0171</td>\n",
       "            <td>3.96</td>\n",
       "        </tr>\n",
       "        <tr>\n",
       "            <td>3</td>\n",
       "            <td>8</td>\n",
       "            <td>2009-01-03 00:00:00</td>\n",
       "            <td>Grétrystraat 63</td>\n",
       "            <td>Brussels</td>\n",
       "            <td>None</td>\n",
       "            <td>Belgium</td>\n",
       "            <td>1000</td>\n",
       "            <td>5.94</td>\n",
       "        </tr>\n",
       "        <tr>\n",
       "            <td>4</td>\n",
       "            <td>14</td>\n",
       "            <td>2009-01-06 00:00:00</td>\n",
       "            <td>8210 111 ST NW</td>\n",
       "            <td>Edmonton</td>\n",
       "            <td>AB</td>\n",
       "            <td>Canada</td>\n",
       "            <td>T6G 2C7</td>\n",
       "            <td>8.91</td>\n",
       "        </tr>\n",
       "        <tr>\n",
       "            <td>5</td>\n",
       "            <td>23</td>\n",
       "            <td>2009-01-11 00:00:00</td>\n",
       "            <td>69 Salem Street</td>\n",
       "            <td>Boston</td>\n",
       "            <td>MA</td>\n",
       "            <td>USA</td>\n",
       "            <td>2113</td>\n",
       "            <td>13.86</td>\n",
       "        </tr>\n",
       "        <tr>\n",
       "            <td>6</td>\n",
       "            <td>37</td>\n",
       "            <td>2009-01-19 00:00:00</td>\n",
       "            <td>Berger Straße 10</td>\n",
       "            <td>Frankfurt</td>\n",
       "            <td>None</td>\n",
       "            <td>Germany</td>\n",
       "            <td>60316</td>\n",
       "            <td>0.99</td>\n",
       "        </tr>\n",
       "        <tr>\n",
       "            <td>7</td>\n",
       "            <td>38</td>\n",
       "            <td>2009-02-01 00:00:00</td>\n",
       "            <td>Barbarossastraße 19</td>\n",
       "            <td>Berlin</td>\n",
       "            <td>None</td>\n",
       "            <td>Germany</td>\n",
       "            <td>10779</td>\n",
       "            <td>1.98</td>\n",
       "        </tr>\n",
       "        <tr>\n",
       "            <td>8</td>\n",
       "            <td>40</td>\n",
       "            <td>2009-02-01 00:00:00</td>\n",
       "            <td>8, Rue Hanovre</td>\n",
       "            <td>Paris</td>\n",
       "            <td>None</td>\n",
       "            <td>France</td>\n",
       "            <td>75002</td>\n",
       "            <td>1.98</td>\n",
       "        </tr>\n",
       "        <tr>\n",
       "            <td>9</td>\n",
       "            <td>42</td>\n",
       "            <td>2009-02-02 00:00:00</td>\n",
       "            <td>9, Place Louis Barthou</td>\n",
       "            <td>Bordeaux</td>\n",
       "            <td>None</td>\n",
       "            <td>France</td>\n",
       "            <td>33000</td>\n",
       "            <td>3.96</td>\n",
       "        </tr>\n",
       "        <tr>\n",
       "            <td>10</td>\n",
       "            <td>46</td>\n",
       "            <td>2009-02-03 00:00:00</td>\n",
       "            <td>3 Chatham Street</td>\n",
       "            <td>Dublin</td>\n",
       "            <td>Dublin</td>\n",
       "            <td>Ireland</td>\n",
       "            <td>None</td>\n",
       "            <td>5.94</td>\n",
       "        </tr>\n",
       "        <tr>\n",
       "            <td>11</td>\n",
       "            <td>52</td>\n",
       "            <td>2009-02-06 00:00:00</td>\n",
       "            <td>202 Hoxton Street</td>\n",
       "            <td>London</td>\n",
       "            <td>None</td>\n",
       "            <td>United Kingdom</td>\n",
       "            <td>N1 5LH</td>\n",
       "            <td>8.91</td>\n",
       "        </tr>\n",
       "        <tr>\n",
       "            <td>12</td>\n",
       "            <td>2</td>\n",
       "            <td>2009-02-11 00:00:00</td>\n",
       "            <td>Theodor-Heuss-Straße 34</td>\n",
       "            <td>Stuttgart</td>\n",
       "            <td>None</td>\n",
       "            <td>Germany</td>\n",
       "            <td>70174</td>\n",
       "            <td>13.86</td>\n",
       "        </tr>\n",
       "        <tr>\n",
       "            <td>13</td>\n",
       "            <td>16</td>\n",
       "            <td>2009-02-19 00:00:00</td>\n",
       "            <td>1600 Amphitheatre Parkway</td>\n",
       "            <td>Mountain View</td>\n",
       "            <td>CA</td>\n",
       "            <td>USA</td>\n",
       "            <td>94043-1351</td>\n",
       "            <td>0.99</td>\n",
       "        </tr>\n",
       "        <tr>\n",
       "            <td>14</td>\n",
       "            <td>17</td>\n",
       "            <td>2009-03-04 00:00:00</td>\n",
       "            <td>1 Microsoft Way</td>\n",
       "            <td>Redmond</td>\n",
       "            <td>WA</td>\n",
       "            <td>USA</td>\n",
       "            <td>98052-8300</td>\n",
       "            <td>1.98</td>\n",
       "        </tr>\n",
       "        <tr>\n",
       "            <td>15</td>\n",
       "            <td>19</td>\n",
       "            <td>2009-03-04 00:00:00</td>\n",
       "            <td>1 Infinite Loop</td>\n",
       "            <td>Cupertino</td>\n",
       "            <td>CA</td>\n",
       "            <td>USA</td>\n",
       "            <td>95014</td>\n",
       "            <td>1.98</td>\n",
       "        </tr>\n",
       "        <tr>\n",
       "            <td>16</td>\n",
       "            <td>21</td>\n",
       "            <td>2009-03-05 00:00:00</td>\n",
       "            <td>801 W 4th Street</td>\n",
       "            <td>Reno</td>\n",
       "            <td>NV</td>\n",
       "            <td>USA</td>\n",
       "            <td>89503</td>\n",
       "            <td>3.96</td>\n",
       "        </tr>\n",
       "        <tr>\n",
       "            <td>17</td>\n",
       "            <td>25</td>\n",
       "            <td>2009-03-06 00:00:00</td>\n",
       "            <td>319 N. Frances Street</td>\n",
       "            <td>Madison</td>\n",
       "            <td>WI</td>\n",
       "            <td>USA</td>\n",
       "            <td>53703</td>\n",
       "            <td>5.94</td>\n",
       "        </tr>\n",
       "        <tr>\n",
       "            <td>18</td>\n",
       "            <td>31</td>\n",
       "            <td>2009-03-09 00:00:00</td>\n",
       "            <td>194A Chain Lake Drive</td>\n",
       "            <td>Halifax</td>\n",
       "            <td>NS</td>\n",
       "            <td>Canada</td>\n",
       "            <td>B3S 1C5</td>\n",
       "            <td>8.91</td>\n",
       "        </tr>\n",
       "        <tr>\n",
       "            <td>19</td>\n",
       "            <td>40</td>\n",
       "            <td>2009-03-14 00:00:00</td>\n",
       "            <td>8, Rue Hanovre</td>\n",
       "            <td>Paris</td>\n",
       "            <td>None</td>\n",
       "            <td>France</td>\n",
       "            <td>75002</td>\n",
       "            <td>13.86</td>\n",
       "        </tr>\n",
       "        <tr>\n",
       "            <td>20</td>\n",
       "            <td>54</td>\n",
       "            <td>2009-03-22 00:00:00</td>\n",
       "            <td>110 Raeburn Pl</td>\n",
       "            <td>Edinburgh </td>\n",
       "            <td>None</td>\n",
       "            <td>United Kingdom</td>\n",
       "            <td>EH4 1HH</td>\n",
       "            <td>0.99</td>\n",
       "        </tr>\n",
       "        <tr>\n",
       "            <td>21</td>\n",
       "            <td>55</td>\n",
       "            <td>2009-04-04 00:00:00</td>\n",
       "            <td>421 Bourke Street</td>\n",
       "            <td>Sidney</td>\n",
       "            <td>NSW</td>\n",
       "            <td>Australia</td>\n",
       "            <td>2010</td>\n",
       "            <td>1.98</td>\n",
       "        </tr>\n",
       "        <tr>\n",
       "            <td>22</td>\n",
       "            <td>57</td>\n",
       "            <td>2009-04-04 00:00:00</td>\n",
       "            <td>Calle Lira, 198</td>\n",
       "            <td>Santiago</td>\n",
       "            <td>None</td>\n",
       "            <td>Chile</td>\n",
       "            <td>None</td>\n",
       "            <td>1.98</td>\n",
       "        </tr>\n",
       "        <tr>\n",
       "            <td>23</td>\n",
       "            <td>59</td>\n",
       "            <td>2009-04-05 00:00:00</td>\n",
       "            <td>3,Raj Bhavan Road</td>\n",
       "            <td>Bangalore</td>\n",
       "            <td>None</td>\n",
       "            <td>India</td>\n",
       "            <td>560001</td>\n",
       "            <td>3.96</td>\n",
       "        </tr>\n",
       "        <tr>\n",
       "            <td>24</td>\n",
       "            <td>4</td>\n",
       "            <td>2009-04-06 00:00:00</td>\n",
       "            <td>Ullevålsveien 14</td>\n",
       "            <td>Oslo</td>\n",
       "            <td>None</td>\n",
       "            <td>Norway</td>\n",
       "            <td>0171</td>\n",
       "            <td>5.94</td>\n",
       "        </tr>\n",
       "        <tr>\n",
       "            <td>25</td>\n",
       "            <td>10</td>\n",
       "            <td>2009-04-09 00:00:00</td>\n",
       "            <td>Rua Dr. Falcão Filho, 155</td>\n",
       "            <td>São Paulo</td>\n",
       "            <td>SP</td>\n",
       "            <td>Brazil</td>\n",
       "            <td>01007-010</td>\n",
       "            <td>8.91</td>\n",
       "        </tr>\n",
       "        <tr>\n",
       "            <td>26</td>\n",
       "            <td>19</td>\n",
       "            <td>2009-04-14 00:00:00</td>\n",
       "            <td>1 Infinite Loop</td>\n",
       "            <td>Cupertino</td>\n",
       "            <td>CA</td>\n",
       "            <td>USA</td>\n",
       "            <td>95014</td>\n",
       "            <td>13.86</td>\n",
       "        </tr>\n",
       "        <tr>\n",
       "            <td>27</td>\n",
       "            <td>33</td>\n",
       "            <td>2009-04-22 00:00:00</td>\n",
       "            <td>5112 48 Street</td>\n",
       "            <td>Yellowknife</td>\n",
       "            <td>NT</td>\n",
       "            <td>Canada</td>\n",
       "            <td>X1A 1N6</td>\n",
       "            <td>0.99</td>\n",
       "        </tr>\n",
       "        <tr>\n",
       "            <td>28</td>\n",
       "            <td>34</td>\n",
       "            <td>2009-05-05 00:00:00</td>\n",
       "            <td>Rua da Assunção 53</td>\n",
       "            <td>Lisbon</td>\n",
       "            <td>None</td>\n",
       "            <td>Portugal</td>\n",
       "            <td>None</td>\n",
       "            <td>1.98</td>\n",
       "        </tr>\n",
       "        <tr>\n",
       "            <td>29</td>\n",
       "            <td>36</td>\n",
       "            <td>2009-05-05 00:00:00</td>\n",
       "            <td>Tauentzienstraße 8</td>\n",
       "            <td>Berlin</td>\n",
       "            <td>None</td>\n",
       "            <td>Germany</td>\n",
       "            <td>10789</td>\n",
       "            <td>1.98</td>\n",
       "        </tr>\n",
       "        <tr>\n",
       "            <td>30</td>\n",
       "            <td>38</td>\n",
       "            <td>2009-05-06 00:00:00</td>\n",
       "            <td>Barbarossastraße 19</td>\n",
       "            <td>Berlin</td>\n",
       "            <td>None</td>\n",
       "            <td>Germany</td>\n",
       "            <td>10779</td>\n",
       "            <td>3.96</td>\n",
       "        </tr>\n",
       "    </tbody>\n",
       "</table>"
      ],
      "text/plain": [
       "[(1, 2, '2009-01-01 00:00:00', 'Theodor-Heuss-Straße 34', 'Stuttgart', None, 'Germany', '70174', 1.98),\n",
       " (2, 4, '2009-01-02 00:00:00', 'Ullevålsveien 14', 'Oslo', None, 'Norway', '0171', 3.96),\n",
       " (3, 8, '2009-01-03 00:00:00', 'Grétrystraat 63', 'Brussels', None, 'Belgium', '1000', 5.94),\n",
       " (4, 14, '2009-01-06 00:00:00', '8210 111 ST NW', 'Edmonton', 'AB', 'Canada', 'T6G 2C7', 8.91),\n",
       " (5, 23, '2009-01-11 00:00:00', '69 Salem Street', 'Boston', 'MA', 'USA', '2113', 13.86),\n",
       " (6, 37, '2009-01-19 00:00:00', 'Berger Straße 10', 'Frankfurt', None, 'Germany', '60316', 0.99),\n",
       " (7, 38, '2009-02-01 00:00:00', 'Barbarossastraße 19', 'Berlin', None, 'Germany', '10779', 1.98),\n",
       " (8, 40, '2009-02-01 00:00:00', '8, Rue Hanovre', 'Paris', None, 'France', '75002', 1.98),\n",
       " (9, 42, '2009-02-02 00:00:00', '9, Place Louis Barthou', 'Bordeaux', None, 'France', '33000', 3.96),\n",
       " (10, 46, '2009-02-03 00:00:00', '3 Chatham Street', 'Dublin', 'Dublin', 'Ireland', None, 5.94),\n",
       " (11, 52, '2009-02-06 00:00:00', '202 Hoxton Street', 'London', None, 'United Kingdom', 'N1 5LH', 8.91),\n",
       " (12, 2, '2009-02-11 00:00:00', 'Theodor-Heuss-Straße 34', 'Stuttgart', None, 'Germany', '70174', 13.86),\n",
       " (13, 16, '2009-02-19 00:00:00', '1600 Amphitheatre Parkway', 'Mountain View', 'CA', 'USA', '94043-1351', 0.99),\n",
       " (14, 17, '2009-03-04 00:00:00', '1 Microsoft Way', 'Redmond', 'WA', 'USA', '98052-8300', 1.98),\n",
       " (15, 19, '2009-03-04 00:00:00', '1 Infinite Loop', 'Cupertino', 'CA', 'USA', '95014', 1.98),\n",
       " (16, 21, '2009-03-05 00:00:00', '801 W 4th Street', 'Reno', 'NV', 'USA', '89503', 3.96),\n",
       " (17, 25, '2009-03-06 00:00:00', '319 N. Frances Street', 'Madison', 'WI', 'USA', '53703', 5.94),\n",
       " (18, 31, '2009-03-09 00:00:00', '194A Chain Lake Drive', 'Halifax', 'NS', 'Canada', 'B3S 1C5', 8.91),\n",
       " (19, 40, '2009-03-14 00:00:00', '8, Rue Hanovre', 'Paris', None, 'France', '75002', 13.86),\n",
       " (20, 54, '2009-03-22 00:00:00', '110 Raeburn Pl', 'Edinburgh ', None, 'United Kingdom', 'EH4 1HH', 0.99),\n",
       " (21, 55, '2009-04-04 00:00:00', '421 Bourke Street', 'Sidney', 'NSW', 'Australia', '2010', 1.98),\n",
       " (22, 57, '2009-04-04 00:00:00', 'Calle Lira, 198', 'Santiago', None, 'Chile', None, 1.98),\n",
       " (23, 59, '2009-04-05 00:00:00', '3,Raj Bhavan Road', 'Bangalore', None, 'India', '560001', 3.96),\n",
       " (24, 4, '2009-04-06 00:00:00', 'Ullevålsveien 14', 'Oslo', None, 'Norway', '0171', 5.94),\n",
       " (25, 10, '2009-04-09 00:00:00', 'Rua Dr. Falcão Filho, 155', 'São Paulo', 'SP', 'Brazil', '01007-010', 8.91),\n",
       " (26, 19, '2009-04-14 00:00:00', '1 Infinite Loop', 'Cupertino', 'CA', 'USA', '95014', 13.86),\n",
       " (27, 33, '2009-04-22 00:00:00', '5112 48 Street', 'Yellowknife', 'NT', 'Canada', 'X1A 1N6', 0.99),\n",
       " (28, 34, '2009-05-05 00:00:00', 'Rua da Assunção 53', 'Lisbon', None, 'Portugal', None, 1.98),\n",
       " (29, 36, '2009-05-05 00:00:00', 'Tauentzienstraße 8', 'Berlin', None, 'Germany', '10789', 1.98),\n",
       " (30, 38, '2009-05-06 00:00:00', 'Barbarossastraße 19', 'Berlin', None, 'Germany', '10779', 3.96)]"
      ]
     },
     "execution_count": 58,
     "metadata": {},
     "output_type": "execute_result"
    }
   ],
   "source": [
    "%%sql \n",
    "SELECT * FROM Invoice LIMIT 30;"
   ]
  },
  {
   "cell_type": "code",
   "execution_count": 63,
   "id": "5b176fbc",
   "metadata": {},
   "outputs": [
    {
     "name": "stdout",
     "output_type": "stream",
     "text": [
      " * sqlite:///Chinook_Sqlite.sqlite\n",
      "Done.\n"
     ]
    },
    {
     "data": {
      "text/html": [
       "<table>\n",
       "    <thead>\n",
       "        <tr>\n",
       "            <th>NUMBER_OF_CUSTOMER</th>\n",
       "            <th>BillingCountry</th>\n",
       "        </tr>\n",
       "    </thead>\n",
       "    <tbody>\n",
       "        <tr>\n",
       "            <td>35</td>\n",
       "            <td>Brazil</td>\n",
       "        </tr>\n",
       "        <tr>\n",
       "            <td>56</td>\n",
       "            <td>Canada</td>\n",
       "        </tr>\n",
       "        <tr>\n",
       "            <td>35</td>\n",
       "            <td>France</td>\n",
       "        </tr>\n",
       "        <tr>\n",
       "            <td>91</td>\n",
       "            <td>USA</td>\n",
       "        </tr>\n",
       "    </tbody>\n",
       "</table>"
      ],
      "text/plain": [
       "[(35, 'Brazil'), (56, 'Canada'), (35, 'France'), (91, 'USA')]"
      ]
     },
     "execution_count": 63,
     "metadata": {},
     "output_type": "execute_result"
    }
   ],
   "source": [
    "%%sql\n",
    "SELECT COUNT(CustomerID) AS NUMBER_OF_CUSTOMER, BillingCountry  FROM Invoice GROUP BY BillingCountry HAVING COUNT(CustomerID) > 30;"
   ]
  },
  {
   "cell_type": "code",
   "execution_count": 66,
   "id": "15b381c7",
   "metadata": {},
   "outputs": [
    {
     "name": "stdout",
     "output_type": "stream",
     "text": [
      " * sqlite:///Chinook_Sqlite.sqlite\n",
      "Done.\n"
     ]
    },
    {
     "data": {
      "text/html": [
       "<table>\n",
       "    <thead>\n",
       "        <tr>\n",
       "            <th>NUMBER_OF_COUNTRY</th>\n",
       "        </tr>\n",
       "    </thead>\n",
       "    <tbody>\n",
       "        <tr>\n",
       "            <td>35</td>\n",
       "        </tr>\n",
       "    </tbody>\n",
       "</table>"
      ],
      "text/plain": [
       "[(35,)]"
      ]
     },
     "execution_count": 66,
     "metadata": {},
     "output_type": "execute_result"
    }
   ],
   "source": [
    "%%sql\n",
    "SELECT COUNT(*) NUMBER_OF_COUNTRY FROM Invoice WHERE BillingCountry=\"Brazil\""
   ]
  },
  {
   "cell_type": "code",
   "execution_count": 67,
   "id": "b3327cbb",
   "metadata": {},
   "outputs": [
    {
     "name": "stdout",
     "output_type": "stream",
     "text": [
      " * sqlite:///Chinook_Sqlite.sqlite\n",
      "Done.\n"
     ]
    },
    {
     "data": {
      "text/html": [
       "<table>\n",
       "    <thead>\n",
       "        <tr>\n",
       "            <th>NUMBER_OF_COUNTRY</th>\n",
       "        </tr>\n",
       "    </thead>\n",
       "    <tbody>\n",
       "        <tr>\n",
       "            <td>56</td>\n",
       "        </tr>\n",
       "    </tbody>\n",
       "</table>"
      ],
      "text/plain": [
       "[(56,)]"
      ]
     },
     "execution_count": 67,
     "metadata": {},
     "output_type": "execute_result"
    }
   ],
   "source": [
    "%%sql\n",
    "SELECT COUNT(*) NUMBER_OF_COUNTRY FROM Invoice WHERE BillingCountry=\"Canada\""
   ]
  },
  {
   "cell_type": "code",
   "execution_count": 68,
   "id": "8f7ccef5",
   "metadata": {},
   "outputs": [
    {
     "name": "stdout",
     "output_type": "stream",
     "text": [
      " * sqlite:///Chinook_Sqlite.sqlite\n",
      "Done.\n"
     ]
    },
    {
     "data": {
      "text/html": [
       "<table>\n",
       "    <thead>\n",
       "        <tr>\n",
       "            <th>NUMBER_OF_COUNTRY</th>\n",
       "        </tr>\n",
       "    </thead>\n",
       "    <tbody>\n",
       "        <tr>\n",
       "            <td>91</td>\n",
       "        </tr>\n",
       "    </tbody>\n",
       "</table>"
      ],
      "text/plain": [
       "[(91,)]"
      ]
     },
     "execution_count": 68,
     "metadata": {},
     "output_type": "execute_result"
    }
   ],
   "source": [
    "%%sql\n",
    "SELECT COUNT(*) NUMBER_OF_COUNTRY FROM Invoice WHERE BillingCountry=\"USA\""
   ]
  },
  {
   "cell_type": "code",
   "execution_count": 69,
   "id": "5f0e4279",
   "metadata": {},
   "outputs": [
    {
     "name": "stdout",
     "output_type": "stream",
     "text": [
      " * sqlite:///Chinook_Sqlite.sqlite\n",
      "Done.\n"
     ]
    },
    {
     "data": {
      "text/html": [
       "<table>\n",
       "    <thead>\n",
       "        <tr>\n",
       "            <th>NUMBER_OF_COUNTRY</th>\n",
       "        </tr>\n",
       "    </thead>\n",
       "    <tbody>\n",
       "        <tr>\n",
       "            <td>28</td>\n",
       "        </tr>\n",
       "    </tbody>\n",
       "</table>"
      ],
      "text/plain": [
       "[(28,)]"
      ]
     },
     "execution_count": 69,
     "metadata": {},
     "output_type": "execute_result"
    }
   ],
   "source": [
    "%%sql\n",
    "SELECT COUNT(*) NUMBER_OF_COUNTRY FROM Invoice WHERE BillingCountry=\"Germany\""
   ]
  },
  {
   "cell_type": "code",
   "execution_count": 71,
   "id": "3344a92f",
   "metadata": {},
   "outputs": [
    {
     "name": "stdout",
     "output_type": "stream",
     "text": [
      " * sqlite:///Chinook_Sqlite.sqlite\n",
      "Done.\n"
     ]
    },
    {
     "data": {
      "text/html": [
       "<table>\n",
       "    <thead>\n",
       "        <tr>\n",
       "            <th>NUMBER_OF_CUSTOMER</th>\n",
       "            <th>BillingCountry</th>\n",
       "        </tr>\n",
       "    </thead>\n",
       "    <tbody>\n",
       "        <tr>\n",
       "            <td>91</td>\n",
       "            <td>USA</td>\n",
       "        </tr>\n",
       "        <tr>\n",
       "            <td>56</td>\n",
       "            <td>Canada</td>\n",
       "        </tr>\n",
       "        <tr>\n",
       "            <td>35</td>\n",
       "            <td>France</td>\n",
       "        </tr>\n",
       "        <tr>\n",
       "            <td>35</td>\n",
       "            <td>Brazil</td>\n",
       "        </tr>\n",
       "    </tbody>\n",
       "</table>"
      ],
      "text/plain": [
       "[(91, 'USA'), (56, 'Canada'), (35, 'France'), (35, 'Brazil')]"
      ]
     },
     "execution_count": 71,
     "metadata": {},
     "output_type": "execute_result"
    }
   ],
   "source": [
    "%%sql\n",
    "SELECT COUNT(CustomerID) AS NUMBER_OF_CUSTOMER, BillingCountry  FROM Invoice GROUP BY BillingCountry HAVING COUNT(CustomerID) > 30 ORDER BY NUMBER_OF_CUSTOMER DESC;"
   ]
  },
  {
   "cell_type": "markdown",
   "id": "53853ac0",
   "metadata": {},
   "source": [
    "-- SELECT \n",
    "-- distinct Extended_step \n",
    "SELECT distinct Extended_step\n",
    "FROM salary_range_by_job_classification;\n",
    "\n",
    "-- Select \n",
    "-- min(Biweekly_high_Rate)\n",
    "-- From salary_range_by_job_classification\n",
    "-- WHERE Biweekly_high_Rate <> '$0.00'    \n",
    "SELECT DISTINCT Biweekly_high_Rate FROM salary_range_by_job_classification\n",
    "ORDER BY Biweekly_high_Rate ASC;\n",
    "\n",
    "Select\n",
    "job_code,\n",
    "pay_type\n",
    "FROM\n",
    "salary_range_by_job_classification WHERE job_code LIKE '03%' \n",
    "\n",
    "SELECT Step FROM salary_range_by_job_classification WHERE job_code = '0110' OR job_code = '0400';\n",
    "SELECT (Biweekly_High_Rate-Biweekly_Low_Rate) FROM salary_range_by_job_classification WHERE Job_Code='0170';\n",
    "SELECT Extended_Step FROM salary_range_by_job_classification WHERE Pay_Type IN ('M','H','D');\n",
    "SELECT * FROM salary_range_by_job_classification WHERE Union_Code='990' AND (Salary_SetID = 'COMMN' OR Salary_SetID = 'SFMTA' );\n",
    "SELECt * FROM Tracks WHERE Milliseconds > 5000000 ;\n",
    "SELECT COUNT(*) FROM Invoices WHERE Total BETWEEN 5 AND 15;\n",
    "SELECt * FROM Customers WHERE State IN ('RJ', 'DF', 'AB', 'BC', 'CA', 'WA', 'NY');\n",
    "SELECT * FROM Invoices WHERE InvoiceId = 315;\n",
    "SELECT * FROM Customers WHERE Email LIKE 'J%@gmail.com';\n",
    "SELECT * FROM Invoices WHERE BillingCity IN ('Brasília', 'Edmonton','Vancouver') ORDER BY InvoiceId ;\n",
    "SELECT CustomerId,COUNT(*) FROM Invoices GROUP BY CustomerId;\n",
    "SELECT Albums.ALbumId,Albums.title,Tracks.TrackId FROM Albums\n",
    "join Tracks ON Albums.ALbumId = Tracks.AlbumId\n",
    "GROUP BY Albums.AlbumId\n",
    "HAVING COUNT(Tracks.TrackId)>=12"
   ]
  },
  {
   "cell_type": "code",
   "execution_count": 75,
   "id": "05a6c8b8",
   "metadata": {},
   "outputs": [
    {
     "name": "stdout",
     "output_type": "stream",
     "text": [
      " * sqlite:///Chinook_Sqlite.sqlite\n",
      "Done.\n"
     ]
    },
    {
     "data": {
      "text/html": [
       "<table>\n",
       "    <thead>\n",
       "        <tr>\n",
       "            <th>AlbumId</th>\n",
       "            <th>Title</th>\n",
       "            <th>ArtistId</th>\n",
       "        </tr>\n",
       "    </thead>\n",
       "    <tbody>\n",
       "        <tr>\n",
       "            <td>1</td>\n",
       "            <td>For Those About To Rock We Salute You</td>\n",
       "            <td>1</td>\n",
       "        </tr>\n",
       "        <tr>\n",
       "            <td>2</td>\n",
       "            <td>Balls to the Wall</td>\n",
       "            <td>2</td>\n",
       "        </tr>\n",
       "        <tr>\n",
       "            <td>3</td>\n",
       "            <td>Restless and Wild</td>\n",
       "            <td>2</td>\n",
       "        </tr>\n",
       "        <tr>\n",
       "            <td>4</td>\n",
       "            <td>Let There Be Rock</td>\n",
       "            <td>1</td>\n",
       "        </tr>\n",
       "        <tr>\n",
       "            <td>5</td>\n",
       "            <td>Big Ones</td>\n",
       "            <td>3</td>\n",
       "        </tr>\n",
       "        <tr>\n",
       "            <td>6</td>\n",
       "            <td>Jagged Little Pill</td>\n",
       "            <td>4</td>\n",
       "        </tr>\n",
       "        <tr>\n",
       "            <td>7</td>\n",
       "            <td>Facelift</td>\n",
       "            <td>5</td>\n",
       "        </tr>\n",
       "        <tr>\n",
       "            <td>8</td>\n",
       "            <td>Warner 25 Anos</td>\n",
       "            <td>6</td>\n",
       "        </tr>\n",
       "        <tr>\n",
       "            <td>9</td>\n",
       "            <td>Plays Metallica By Four Cellos</td>\n",
       "            <td>7</td>\n",
       "        </tr>\n",
       "        <tr>\n",
       "            <td>10</td>\n",
       "            <td>Audioslave</td>\n",
       "            <td>8</td>\n",
       "        </tr>\n",
       "    </tbody>\n",
       "</table>"
      ],
      "text/plain": [
       "[(1, 'For Those About To Rock We Salute You', 1),\n",
       " (2, 'Balls to the Wall', 2),\n",
       " (3, 'Restless and Wild', 2),\n",
       " (4, 'Let There Be Rock', 1),\n",
       " (5, 'Big Ones', 3),\n",
       " (6, 'Jagged Little Pill', 4),\n",
       " (7, 'Facelift', 5),\n",
       " (8, 'Warner 25 Anos', 6),\n",
       " (9, 'Plays Metallica By Four Cellos', 7),\n",
       " (10, 'Audioslave', 8)]"
      ]
     },
     "execution_count": 75,
     "metadata": {},
     "output_type": "execute_result"
    }
   ],
   "source": [
    "%%sql\n",
    "SELECT * FROM Album LIMIT 10;"
   ]
  },
  {
   "cell_type": "code",
   "execution_count": null,
   "id": "784bdddd",
   "metadata": {},
   "outputs": [],
   "source": []
  }
 ],
 "metadata": {
  "kernelspec": {
   "display_name": "Python 3 (ipykernel)",
   "language": "python",
   "name": "python3"
  },
  "language_info": {
   "codemirror_mode": {
    "name": "ipython",
    "version": 3
   },
   "file_extension": ".py",
   "mimetype": "text/x-python",
   "name": "python",
   "nbconvert_exporter": "python",
   "pygments_lexer": "ipython3",
   "version": "3.10.9"
  }
 },
 "nbformat": 4,
 "nbformat_minor": 5
}
